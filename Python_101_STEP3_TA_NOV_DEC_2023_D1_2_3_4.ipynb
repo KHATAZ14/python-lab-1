{
  "nbformat": 4,
  "nbformat_minor": 0,
  "metadata": {
    "colab": {
      "provenance": []
    },
    "kernelspec": {
      "name": "python3",
      "display_name": "Python 3"
    },
    "language_info": {
      "name": "python"
    }
  },
  "cells": [
    {
      "cell_type": "code",
      "execution_count": null,
      "metadata": {
        "id": "_7ul5xqezp-2"
      },
      "outputs": [],
      "source": [
        "# D1\n",
        "# November 14, 2023"
      ]
    },
    {
      "cell_type": "code",
      "source": [
        "# Exercise 1 Solution\n",
        "count = 1\n",
        "while count <= 5:\n",
        "    print(count)\n",
        "    count += 1\n"
      ],
      "metadata": {
        "colab": {
          "base_uri": "https://localhost:8080/"
        },
        "id": "7AyvE3ag6Fgk",
        "outputId": "74ba2f4d-1ea3-408f-b545-0334d8c75449"
      },
      "execution_count": null,
      "outputs": [
        {
          "output_type": "stream",
          "name": "stdout",
          "text": [
            "1\n",
            "2\n",
            "3\n",
            "4\n",
            "5\n"
          ]
        }
      ]
    },
    {
      "cell_type": "code",
      "source": [
        "# Exercise 1 Solution\n",
        "num = int(input(\"Enter a number: \"))\n",
        "if num > 0:\n",
        "    print(\"Positive\")\n",
        "elif num < 0:\n",
        "    print(\"Negative\")\n",
        "else:\n",
        "    print(\"Zero\")\n"
      ],
      "metadata": {
        "colab": {
          "base_uri": "https://localhost:8080/"
        },
        "id": "MWeB66Fi6FHV",
        "outputId": "d679df29-4adb-46f9-bbfa-6382b9a322e4"
      },
      "execution_count": null,
      "outputs": [
        {
          "output_type": "stream",
          "name": "stdout",
          "text": [
            "Enter a number: 4\n",
            "Positive\n"
          ]
        }
      ]
    },
    {
      "cell_type": "code",
      "source": [
        "# Exercise 3 Solution\n",
        "num1 = float(input(\"Enter the first number: \"))\n",
        "num2 = float(input(\"Enter the second number: \"))\n",
        "num3 = float(input(\"Enter the third number: \"))\n",
        "\n",
        "if num1 >= num2 and num1 >= num3:\n",
        "    print(\"Largest: \", num1)\n",
        "elif num2 >= num1 and num2 >= num3:\n",
        "    print(\"Largest: \", num2)\n",
        "else:\n",
        "    print(\"Largest: \", num3)\n"
      ],
      "metadata": {
        "colab": {
          "base_uri": "https://localhost:8080/"
        },
        "id": "P6zhSuZK6DMi",
        "outputId": "2afc0508-5509-4f9f-8dd8-ac284a265993"
      },
      "execution_count": null,
      "outputs": [
        {
          "output_type": "stream",
          "name": "stdout",
          "text": [
            "Enter the first number: 3\n",
            "Enter the second number: 2\n",
            "Enter the third number: 8\n",
            "Largest:  8.0\n"
          ]
        }
      ]
    },
    {
      "cell_type": "code",
      "source": [
        "# # Data Type\n",
        "# - Primitive Data Type -> One Variable can store one value =>> name = \"Peter\"\n",
        "# string (str)\n",
        "# integer (int)\n",
        "# float (float)\n",
        "# boolean (bool) True/False\n",
        "\n",
        "\n",
        "# - Collection Data Type => One Variable can store multiple values ==>> name = ['Peter', 'Steve']\n",
        "# list\n",
        "# tuple\n",
        "# set\n",
        "# dictionary\n"
      ],
      "metadata": {
        "id": "xt0tBNhu6ESw"
      },
      "execution_count": null,
      "outputs": []
    },
    {
      "cell_type": "code",
      "source": [
        "# list\n",
        "# ข้อมูลเรียงลำดับก่อนหลัง -> Ordered\n",
        "# ข้อมูลมีตำแหน่งระบุ -> Index Position / Subscription\n",
        "# ข้อมูลแก้ไขได้ -> Modifiable\n",
        "# ข้อมูลซ้ำกันได้ -> Non-Uniqueness\n"
      ],
      "metadata": {
        "id": "PZRCfIc_Aw2v"
      },
      "execution_count": null,
      "outputs": []
    },
    {
      "cell_type": "code",
      "source": [
        "# Create a list of five integer\n",
        "\n",
        "my_list = [1, 2, 3, 4, 5]\n",
        "print(my_list)\n",
        "\n",
        "print(type(my_list))"
      ],
      "metadata": {
        "colab": {
          "base_uri": "https://localhost:8080/"
        },
        "id": "RaeBlGZFBKKt",
        "outputId": "b56dc679-6064-4f83-c9ff-952580246e0d"
      },
      "execution_count": null,
      "outputs": [
        {
          "output_type": "stream",
          "name": "stdout",
          "text": [
            "[1, 2, 3, 4, 5]\n",
            "<class 'list'>\n"
          ]
        }
      ]
    },
    {
      "cell_type": "code",
      "source": [
        "# Create a list of five float\n",
        "\n",
        "my_list = [12.51, -2.45, 399.45, 44.45, 5.0]\n",
        "print(my_list)\n",
        "\n",
        "print(type(my_list))"
      ],
      "metadata": {
        "colab": {
          "base_uri": "https://localhost:8080/"
        },
        "id": "Y9tTSsM2BUYo",
        "outputId": "07d8a268-bbc0-4310-d7db-dc9f0c8e5007"
      },
      "execution_count": null,
      "outputs": [
        {
          "output_type": "stream",
          "name": "stdout",
          "text": [
            "[12.51, -2.45, 399.45, 44.45, 5.0]\n",
            "<class 'list'>\n"
          ]
        }
      ]
    },
    {
      "cell_type": "code",
      "source": [
        "# Create a list of five mixed type of data\n",
        "\n",
        "my_list = [1, 2.99, \"Baht\", True, 5]\n",
        "print(my_list)\n",
        "\n",
        "print(type(my_list))"
      ],
      "metadata": {
        "colab": {
          "base_uri": "https://localhost:8080/"
        },
        "id": "U4-DZhW7Bdxz",
        "outputId": "2c347d1e-afe9-4add-b840-d6229aacf1ad"
      },
      "execution_count": null,
      "outputs": [
        {
          "output_type": "stream",
          "name": "stdout",
          "text": [
            "[1, 2.99, 'Baht', True, 5]\n",
            "<class 'list'>\n"
          ]
        }
      ]
    },
    {
      "cell_type": "code",
      "source": [
        "# Find the length of a list -> len() -> length\n",
        "\n",
        "my_list = [1, 2, 3, 4, 5]\n",
        "length = len(my_list)\n",
        "print(length)  # Output: 5"
      ],
      "metadata": {
        "colab": {
          "base_uri": "https://localhost:8080/"
        },
        "id": "cDNqLJzGBn7s",
        "outputId": "1ae301a9-9da2-41ac-ebc0-b371b004b8fe"
      },
      "execution_count": null,
      "outputs": [
        {
          "output_type": "stream",
          "name": "stdout",
          "text": [
            "5\n"
          ]
        }
      ]
    },
    {
      "cell_type": "code",
      "source": [
        "# Add a new element to the end of the list\n",
        "# Append -> append() -> ข้อมูลจะต่อท้ายเสมอ\n",
        "\n",
        "my_list = [1, 2]\n",
        "print(my_list)  # Output: [1, 2]\n",
        "\n",
        "my_list.append(4)\n",
        "my_list.append(3)\n",
        "print(my_list)  # Output: [1, 2, 4, 3] -> ordered ข้อมูลเรียงตามลำดับก่อนหลัง"
      ],
      "metadata": {
        "colab": {
          "base_uri": "https://localhost:8080/"
        },
        "id": "_N9gpu84Bk63",
        "outputId": "29a98926-b2e7-41cf-cfa0-cca5f2eb3448"
      },
      "execution_count": null,
      "outputs": [
        {
          "output_type": "stream",
          "name": "stdout",
          "text": [
            "[1, 2]\n",
            "[1, 2, 4, 3]\n"
          ]
        }
      ]
    },
    {
      "cell_type": "code",
      "source": [
        "# Insert\n",
        "\n",
        "my_list = [1, 2, 3]\n",
        "print(my_list)\n",
        "my_list.insert(1, 4)  # Insert 4 at index position = 1\n",
        "print(my_list)  # Output: [1, 4, 2, 3]\n"
      ],
      "metadata": {
        "colab": {
          "base_uri": "https://localhost:8080/"
        },
        "id": "KCozJsy6B_H1",
        "outputId": "2c52fe2d-0b87-4fc6-faf4-39aafe029767"
      },
      "execution_count": null,
      "outputs": [
        {
          "output_type": "stream",
          "name": "stdout",
          "text": [
            "[1, 2, 3]\n",
            "[1, 4, 2, 3]\n"
          ]
        }
      ]
    },
    {
      "cell_type": "code",
      "source": [
        "# Remove -> remove()\n",
        "\n",
        "my_list = [1, 2, 3, 4, 5]\n",
        "print(my_list)  # Output: [1, 2, 3, 4, 5]\n",
        "\n",
        "my_list.remove(3)  # Remove the value 3\n",
        "print(my_list)  # Output: [1, 2, 4, 5]"
      ],
      "metadata": {
        "colab": {
          "base_uri": "https://localhost:8080/"
        },
        "id": "LhW5sgmLCQ4f",
        "outputId": "a2fb5c12-479c-4afa-97fa-015162421d1a"
      },
      "execution_count": null,
      "outputs": [
        {
          "output_type": "stream",
          "name": "stdout",
          "text": [
            "[1, 2, 3, 4, 5]\n",
            "[1, 2, 4, 5]\n"
          ]
        }
      ]
    },
    {
      "cell_type": "code",
      "source": [
        "# การสร้าง List ใหม่\n",
        "\n",
        "my_list =[\"apple\", \"banana\", \"cherry\", \"orange\", \"kiwi\", \"melon\", \"mango\", \"pineapple\", \"papaya\", \"raspberry\"]\n",
        "print(my_list)\n",
        "print(len(my_list))\n"
      ],
      "metadata": {
        "colab": {
          "base_uri": "https://localhost:8080/"
        },
        "id": "y8samLQzB7G6",
        "outputId": "82022eb1-2e6b-4f06-cdb0-f2817d346ebb"
      },
      "execution_count": null,
      "outputs": [
        {
          "output_type": "stream",
          "name": "stdout",
          "text": [
            "['apple', 'banana', 'cherry', 'orange', 'kiwi', 'melon', 'mango', 'pineapple', 'papaya', 'raspberry']\n",
            "10\n"
          ]
        }
      ]
    },
    {
      "cell_type": "code",
      "source": [
        "# List Navigation\n",
        "# การชี้ตำแหน่ง\n",
        "# Forward Navigation\n",
        "\n",
        "my_list =[\"apple\", \"banana\", \"cherry\", \"orange\", \"kiwi\", \"melon\", \"mango\", \"pineapple\", \"papaya\", \"raspberry\"]\n",
        "#             0       1         2          3        4       5        6          7          8          9\n",
        "\n",
        "print(my_list[0])\n",
        "print(my_list[1])\n",
        "print(my_list[6])\n",
        "print(my_list[8])\n",
        "\n",
        "\n"
      ],
      "metadata": {
        "colab": {
          "base_uri": "https://localhost:8080/"
        },
        "id": "9OStjdOAEBnH",
        "outputId": "1b2a068e-aba0-4f57-f436-d09e5192e008"
      },
      "execution_count": null,
      "outputs": [
        {
          "output_type": "stream",
          "name": "stdout",
          "text": [
            "apple\n",
            "banana\n",
            "mango\n",
            "papaya\n"
          ]
        }
      ]
    },
    {
      "cell_type": "code",
      "source": [
        "# List Navigation\n",
        "# การชี้ตำแหน่ง\n",
        "# Forward Navigation\n",
        "\n",
        "my_list =[\"apple\", \"banana\", \"cherry\", \"orange\", \"kiwi\", \"melon\", \"mango\", \"pineapple\", \"papaya\", \"raspberry\"]\n",
        "#             0       1         2          3        4       5        6          7          8          9\n",
        "\n",
        "print(my_list[10])\n",
        "# IndexError: list index out of range การอ้างตำแหน่ง index ที่เกินขอบเขตข้อมูล"
      ],
      "metadata": {
        "colab": {
          "base_uri": "https://localhost:8080/",
          "height": 216
        },
        "id": "uu_fNDZnFEmZ",
        "outputId": "8c7b1587-0a5b-44f5-d35d-6d983dd30a07"
      },
      "execution_count": null,
      "outputs": [
        {
          "output_type": "error",
          "ename": "IndexError",
          "evalue": "ignored",
          "traceback": [
            "\u001b[0;31m---------------------------------------------------------------------------\u001b[0m",
            "\u001b[0;31mIndexError\u001b[0m                                Traceback (most recent call last)",
            "\u001b[0;32m<ipython-input-19-8a432c73c5e3>\u001b[0m in \u001b[0;36m<cell line: 8>\u001b[0;34m()\u001b[0m\n\u001b[1;32m      6\u001b[0m \u001b[0;31m#             0       1         2          3        4       5        6          7          8          9\u001b[0m\u001b[0;34m\u001b[0m\u001b[0;34m\u001b[0m\u001b[0m\n\u001b[1;32m      7\u001b[0m \u001b[0;34m\u001b[0m\u001b[0m\n\u001b[0;32m----> 8\u001b[0;31m \u001b[0mprint\u001b[0m\u001b[0;34m(\u001b[0m\u001b[0mmy_list\u001b[0m\u001b[0;34m[\u001b[0m\u001b[0;36m10\u001b[0m\u001b[0;34m]\u001b[0m\u001b[0;34m)\u001b[0m\u001b[0;34m\u001b[0m\u001b[0;34m\u001b[0m\u001b[0m\n\u001b[0m",
            "\u001b[0;31mIndexError\u001b[0m: list index out of range"
          ]
        }
      ]
    },
    {
      "cell_type": "code",
      "source": [
        "# List Navigation\n",
        "# การชี้ตำแหน่ง\n",
        "# Forward Range Navigation\n",
        "\n",
        "my_list =[\"apple\", \"banana\", \"cherry\", \"orange\", \"kiwi\", \"melon\", \"mango\", \"pineapple\", \"papaya\", \"raspberry\"]\n",
        "#             0       1         2          3        4       5        6          7          8          9\n",
        "\n",
        "print(my_list[0])\n",
        "print(my_list[1])\n",
        "print(my_list[6])\n",
        "print(my_list[8])\n",
        "\n",
        "\n",
        "print(my_list[0: 5]) # 0-4\n",
        "print(my_list[2: 8]) # 2-7\n",
        "\n",
        "# บอกจุดเริ่มต้น และละตำแหน่งสิ้นสุด แปลว่าให้อ้างถึงตำแหน่งสุดท้าย\n",
        "print(my_list[0:]) # 0 to the end (to the rightest)\n",
        "print(my_list[5:]) # 5 to the end (to the rightest)\n",
        "\n",
        "# ละจุดเริ่มต้น  แปลว่าให้อ้างถึงตำแหน่งแรกสุด (The leftest)\n",
        "print(my_list[: 6]) # 0 to 5\n",
        "print(my_list[: 8]) # 0 to 7\n",
        "\n",
        "print(my_list[:]) # Force ordered printing sequentially -- Make sure ordered\n",
        "print(my_list)"
      ],
      "metadata": {
        "colab": {
          "base_uri": "https://localhost:8080/"
        },
        "id": "IGxH7EgtEgqA",
        "outputId": "3410c107-db25-4007-d814-88a8907001e9"
      },
      "execution_count": null,
      "outputs": [
        {
          "output_type": "stream",
          "name": "stdout",
          "text": [
            "apple\n",
            "banana\n",
            "mango\n",
            "papaya\n",
            "['apple', 'banana', 'cherry', 'orange', 'kiwi']\n",
            "['cherry', 'orange', 'kiwi', 'melon', 'mango', 'pineapple']\n",
            "['apple', 'banana', 'cherry', 'orange', 'kiwi', 'melon', 'mango', 'pineapple', 'papaya', 'raspberry']\n",
            "['melon', 'mango', 'pineapple', 'papaya', 'raspberry']\n",
            "['apple', 'banana', 'cherry', 'orange', 'kiwi', 'melon']\n",
            "['apple', 'banana', 'cherry', 'orange', 'kiwi', 'melon', 'mango', 'pineapple']\n",
            "['apple', 'banana', 'cherry', 'orange', 'kiwi', 'melon', 'mango', 'pineapple', 'papaya', 'raspberry']\n",
            "['apple', 'banana', 'cherry', 'orange', 'kiwi', 'melon', 'mango', 'pineapple', 'papaya', 'raspberry']\n"
          ]
        }
      ]
    },
    {
      "cell_type": "code",
      "source": [
        "# List Negative Navigation / Backward Navigation\n",
        "my_list =[\"apple\", \"banana\", \"cherry\", \"orange\", \"kiwi\", \"melon\", \"mango\", \"pineapple\", \"papaya\", \"rasbery\"]\n",
        "#.         -10.       -9.      -8.        -7.     -6.     -5.       -4.       -3.         -2.       -1\n",
        "\n",
        "print(my_list[-1])\n",
        "print(my_list[-2])\n",
        "print(my_list[-3])\n",
        "print(my_list[-5])\n",
        "print(my_list[-10])\n"
      ],
      "metadata": {
        "colab": {
          "base_uri": "https://localhost:8080/"
        },
        "id": "SOzLc_UaGppy",
        "outputId": "9f93782e-54aa-4256-a9cc-440dc7b88f06"
      },
      "execution_count": null,
      "outputs": [
        {
          "output_type": "stream",
          "name": "stdout",
          "text": [
            "rasbery\n",
            "papaya\n",
            "pineapple\n",
            "melon\n",
            "apple\n"
          ]
        }
      ]
    },
    {
      "cell_type": "code",
      "source": [
        "# IndexError: list index out of range\n",
        "\n",
        "print(my_list[-21])"
      ],
      "metadata": {
        "colab": {
          "base_uri": "https://localhost:8080/",
          "height": 180
        },
        "id": "O7rqT_r1Ic2V",
        "outputId": "0a1f460d-3629-480a-ae5c-d5a532576898"
      },
      "execution_count": null,
      "outputs": [
        {
          "output_type": "error",
          "ename": "IndexError",
          "evalue": "ignored",
          "traceback": [
            "\u001b[0;31m---------------------------------------------------------------------------\u001b[0m",
            "\u001b[0;31mIndexError\u001b[0m                                Traceback (most recent call last)",
            "\u001b[0;32m<ipython-input-28-0a41f8538756>\u001b[0m in \u001b[0;36m<cell line: 1>\u001b[0;34m()\u001b[0m\n\u001b[0;32m----> 1\u001b[0;31m \u001b[0mprint\u001b[0m\u001b[0;34m(\u001b[0m\u001b[0mmy_list\u001b[0m\u001b[0;34m[\u001b[0m\u001b[0;34m-\u001b[0m\u001b[0;36m21\u001b[0m\u001b[0;34m]\u001b[0m\u001b[0;34m)\u001b[0m\u001b[0;34m\u001b[0m\u001b[0;34m\u001b[0m\u001b[0m\n\u001b[0m",
            "\u001b[0;31mIndexError\u001b[0m: list index out of range"
          ]
        }
      ]
    },
    {
      "cell_type": "code",
      "source": [
        "# List Negative Navigation / Backward Range Navigation\n",
        "my_list =[\"apple\", \"banana\", \"cherry\", \"orange\", \"kiwi\", \"melon\", \"mango\", \"pineapple\", \"papaya\", \"rasbery\"]\n",
        "#.         -10.       -9.      -8.        -7.     -6.     -5.       -4.       -3.         -2.       -1\n",
        "\n",
        "print(my_list[-10: -4]) # -10 to -5\n",
        "print(my_list[-5: ]) # -5 to the rightest (-1)\n",
        "print(my_list[: -3]) # the leftest to -4"
      ],
      "metadata": {
        "colab": {
          "base_uri": "https://localhost:8080/"
        },
        "id": "f-YvhLfEIeus",
        "outputId": "4bee3a22-7915-4c28-df6f-8a3231c3803d"
      },
      "execution_count": null,
      "outputs": [
        {
          "output_type": "stream",
          "name": "stdout",
          "text": [
            "['apple', 'banana', 'cherry', 'orange', 'kiwi', 'melon']\n",
            "['melon', 'mango', 'pineapple', 'papaya', 'rasbery']\n",
            "['apple', 'banana', 'cherry', 'orange', 'kiwi', 'melon', 'mango']\n"
          ]
        }
      ]
    },
    {
      "cell_type": "code",
      "source": [
        "# Suppose we do not know how many elements in the list:\n",
        "# Print the first and the last element of the given list\n",
        "\n",
        "my_list =[\"apple\", \"banana\", \"cherry\", \"orange\", \"kiwi\", \"melon\", \"mango\", \"pineapple\", \"papaya\", \"rasbery\"]\n",
        "\n",
        "print(my_list[0], my_list[-1])\n"
      ],
      "metadata": {
        "colab": {
          "base_uri": "https://localhost:8080/"
        },
        "id": "jCgNuT3AJCQG",
        "outputId": "4a5c5cc8-f4c5-4344-c52d-1d29abfd76f1"
      },
      "execution_count": null,
      "outputs": [
        {
          "output_type": "stream",
          "name": "stdout",
          "text": [
            "apple rasbery\n"
          ]
        }
      ]
    },
    {
      "cell_type": "code",
      "source": [
        "# List modification\n",
        "# Edit specific element\n",
        "\n",
        "my_list =[\"apple\", \"banana\", \"cherry\", \"orange\", \"kiwi\", \"melon\", \"mango\", \"pineapple\", \"papaya\", \"rasbery\"]\n",
        "print(my_list)\n",
        "\n",
        "my_list[3] = \"blackcurrant\"\n",
        "print(my_list)\n"
      ],
      "metadata": {
        "colab": {
          "base_uri": "https://localhost:8080/"
        },
        "id": "ZnabvRCSJgCq",
        "outputId": "3e9583f2-290a-44d9-db6e-fd1275ae87be"
      },
      "execution_count": null,
      "outputs": [
        {
          "output_type": "stream",
          "name": "stdout",
          "text": [
            "['apple', 'banana', 'cherry', 'orange', 'kiwi', 'melon', 'mango', 'pineapple', 'papaya', 'rasbery']\n",
            "['apple', 'banana', 'cherry', 'blackcurrant', 'kiwi', 'melon', 'mango', 'pineapple', 'papaya', 'rasbery']\n"
          ]
        }
      ]
    },
    {
      "cell_type": "code",
      "source": [
        "#Check data in the list การเช็คค่าข้อมูล\n",
        "#การเช็คค่าที่ต้องการว่ามีหรือไม่\n",
        "\n",
        "if \"apple\" in my_list:\n",
        "    print(\"OK, I got one.\")\n",
        "\n",
        "if \"applea\" not in my_list:\n",
        "  print(\"So sad, I don't have it.\")"
      ],
      "metadata": {
        "colab": {
          "base_uri": "https://localhost:8080/"
        },
        "id": "Fn0nVgc3J1QB",
        "outputId": "b611cc35-e2f7-4c21-bdad-e3cd21bffc3c"
      },
      "execution_count": null,
      "outputs": [
        {
          "output_type": "stream",
          "name": "stdout",
          "text": [
            "OK, I got one.\n",
            "So sad, I don't have it.\n"
          ]
        }
      ]
    },
    {
      "cell_type": "code",
      "source": [
        "# Clear List # การลบข้อมูลในตัว List ออก -> clear()\n",
        "# ลบเฉพาะข้อมูลใน List ทั้งหมด\n",
        "\n",
        "my_list =[\"apple\", \"banana\", \"cherry\", \"orange\", \"kiwi\", \"melon\", \"mango\", \"pineapple\", \"papaya\", \"rasbery\"]\n",
        "print(my_list)\n",
        "\n",
        "my_list.clear() # จะทำให้ เป็น Empty List\n",
        "print(my_list)"
      ],
      "metadata": {
        "colab": {
          "base_uri": "https://localhost:8080/"
        },
        "id": "v3S8gEl9I-xI",
        "outputId": "0c3752cc-0cd1-4d1f-d781-76d4bae9e1ba"
      },
      "execution_count": null,
      "outputs": [
        {
          "output_type": "stream",
          "name": "stdout",
          "text": [
            "['apple', 'banana', 'cherry', 'orange', 'kiwi', 'melon', 'mango', 'pineapple', 'papaya', 'rasbery']\n",
            "[]\n"
          ]
        }
      ]
    },
    {
      "cell_type": "code",
      "source": [
        "# Copy List with copy()\n",
        "\n",
        "my_list =[\"apple\", \"banana\", \"cherry\", \"orange\", \"kiwi\", \"melon\", \"mango\", \"pineapple\", \"papaya\", \"rasbery\"]\n",
        "second_list = my_list.copy()\n",
        "\n",
        "\n",
        "print(my_list)\n",
        "print(second_list)"
      ],
      "metadata": {
        "colab": {
          "base_uri": "https://localhost:8080/"
        },
        "id": "XKGaOgTNI7he",
        "outputId": "0ad698d1-f911-496c-bcba-c96a5f674199"
      },
      "execution_count": null,
      "outputs": [
        {
          "output_type": "stream",
          "name": "stdout",
          "text": [
            "['apple', 'banana', 'cherry', 'orange', 'kiwi', 'melon', 'mango', 'pineapple', 'papaya', 'rasbery']\n",
            "['apple', 'banana', 'cherry', 'orange', 'kiwi', 'melon', 'mango', 'pineapple', 'papaya', 'rasbery']\n"
          ]
        }
      ]
    },
    {
      "cell_type": "code",
      "source": [
        "# Copy List with list()  # Constructor เรียกใช้ function หรือ Method ที่เป็นชื่อตัวเองเพื่อทำงาน\n",
        "\n",
        "my_list = [\"apple\", \"banana\", \"cherry\", \"orange\", \"kiwi\", \"melon\", \"mango\", \"pineapple\", \"papaya\", \"rasbery\"]\n",
        "my_second_list = list(my_list) # การสร้างหรือคัดลอก list ใหม่อีกตัว\n",
        "\n",
        "print(my_list)\n",
        "print(my_second_list)"
      ],
      "metadata": {
        "id": "O32T1Pc0I3Zg"
      },
      "execution_count": null,
      "outputs": []
    },
    {
      "cell_type": "code",
      "source": [
        "#Join two Lists วิธีที่ 1\n",
        "\n",
        "list_1 = [\"a\", \"b\" , \"c\"]\n",
        "list_2 = [1, 2, 3]\n",
        "\n",
        "list_3 = list_1 + list_2\n",
        "print(list_3)\n",
        "\n",
        "list_4 = list_2 + list_1\n",
        "print(list_4)"
      ],
      "metadata": {
        "colab": {
          "base_uri": "https://localhost:8080/"
        },
        "id": "U4zOwcP8IvW0",
        "outputId": "832af2ad-9607-4e7f-ec16-3511f1f70aeb"
      },
      "execution_count": null,
      "outputs": [
        {
          "output_type": "stream",
          "name": "stdout",
          "text": [
            "['a', 'b', 'c', 1, 2, 3]\n",
            "[1, 2, 3, 'a', 'b', 'c']\n"
          ]
        }
      ]
    },
    {
      "cell_type": "code",
      "source": [
        "# Join two list,  วิธีที่ 2 using for loop\n",
        "# การเพิ่ม list_2 เข้าใน list_1\n",
        "\n",
        "list_1 = [\"ก\", \"ข\" , \"ค\"]\n",
        "list_2 = [1, 2, 3]\n",
        "\n",
        "for x in list_2:\n",
        "  list_1.append(x)\n",
        "  print(list_1)\n",
        "\n",
        "print()\n",
        "print(\"Final:\")\n",
        "print(list_1)"
      ],
      "metadata": {
        "colab": {
          "base_uri": "https://localhost:8080/"
        },
        "id": "VpCUlNtDK_gi",
        "outputId": "5bbdb870-ae8c-4072-df5c-5655286833ab"
      },
      "execution_count": null,
      "outputs": [
        {
          "output_type": "stream",
          "name": "stdout",
          "text": [
            "['ก', 'ข', 'ค', 1]\n",
            "['ก', 'ข', 'ค', 1, 2]\n",
            "['ก', 'ข', 'ค', 1, 2, 3]\n",
            "\n",
            "Final:\n",
            "['ก', 'ข', 'ค', 1, 2, 3]\n"
          ]
        }
      ]
    },
    {
      "cell_type": "code",
      "source": [
        "# Join two list,  วิธีที่ 3 using extend()\n",
        "\n",
        "car_list = [\"BMW\", \"Porch\" , \"Toyota\", \"Honda\", \"Ferrari\"]\n",
        "print(car_list)\n",
        "\n",
        "number_list = [1, 2, 3, 4, 5]\n",
        "print(number_list)"
      ],
      "metadata": {
        "colab": {
          "base_uri": "https://localhost:8080/"
        },
        "id": "S1tN3o88LV9V",
        "outputId": "a996382d-8869-4bc5-c218-465e5fab3d66"
      },
      "execution_count": null,
      "outputs": [
        {
          "output_type": "stream",
          "name": "stdout",
          "text": [
            "['BMW', 'Porch', 'Toyota', 'Honda', 'Ferrari']\n",
            "[1, 2, 3, 4, 5]\n"
          ]
        }
      ]
    },
    {
      "cell_type": "code",
      "source": [
        "car_list.extend(number_list)\n",
        "print(car_list)"
      ],
      "metadata": {
        "colab": {
          "base_uri": "https://localhost:8080/"
        },
        "id": "Qh3Cvu1CLQWI",
        "outputId": "676d6983-9242-4ff3-ac7c-989e3cdb5db0"
      },
      "execution_count": null,
      "outputs": [
        {
          "output_type": "stream",
          "name": "stdout",
          "text": [
            "['BMW', 'Porch', 'Toyota', 'Honda', 'Ferrari', 1, 2, 3, 4, 5]\n"
          ]
        }
      ]
    },
    {
      "cell_type": "code",
      "source": [
        "\n",
        "car_list = [\"BMW\", \"Porch\" , \"Toyota\", \"Honda\", \"Ferrari\"]\n",
        "print(car_list)\n",
        "\n",
        "number_list = [1, 2, 3, 4, 5]\n",
        "print(number_list)\n",
        "\n",
        "number_list.extend(car_list)\n",
        "print(number_list)"
      ],
      "metadata": {
        "colab": {
          "base_uri": "https://localhost:8080/"
        },
        "id": "BQzeb8sOLkIS",
        "outputId": "3ef51156-414b-483b-9627-ad4d3dbbede4"
      },
      "execution_count": null,
      "outputs": [
        {
          "output_type": "stream",
          "name": "stdout",
          "text": [
            "['BMW', 'Porch', 'Toyota', 'Honda', 'Ferrari']\n",
            "[1, 2, 3, 4, 5]\n",
            "[1, 2, 3, 4, 5, 'BMW', 'Porch', 'Toyota', 'Honda', 'Ferrari']\n"
          ]
        }
      ]
    },
    {
      "cell_type": "code",
      "source": [
        "# การสร้าง List ขึ้นใหม่ให้เหมือน List ที่มีอยู่เดิม\n",
        "# list() constructor to make a new list\n",
        "# list(())  การสร้าง list ใหม่\n",
        "# use the double round-brackets\n",
        "\n",
        "\n",
        "newlist = list((\"apple\", \"banana\", \"cherry\", \"pineapple\", \"rasberri\"))\n",
        "print(newlist)"
      ],
      "metadata": {
        "colab": {
          "base_uri": "https://localhost:8080/"
        },
        "id": "i7LfBj6nLvm-",
        "outputId": "4caa225e-02e9-4a78-a225-0d99da7d4a3a"
      },
      "execution_count": null,
      "outputs": [
        {
          "output_type": "stream",
          "name": "stdout",
          "text": [
            "['apple', 'banana', 'cherry', 'pineapple', 'rasberri']\n"
          ]
        }
      ]
    },
    {
      "cell_type": "code",
      "source": [
        "newlist = [\"apple\", \"banana\", \"cherry\", \"pineapple\", \"rasberri\"]\n",
        "print(newlist)\n"
      ],
      "metadata": {
        "colab": {
          "base_uri": "https://localhost:8080/"
        },
        "id": "3w-sMJ3eK6ko",
        "outputId": "3386e830-9d1b-4aab-8c0a-7fa3f626c5c1"
      },
      "execution_count": null,
      "outputs": [
        {
          "output_type": "stream",
          "name": "stdout",
          "text": [
            "['apple', 'banana', 'cherry', 'pineapple', 'rasberri']\n"
          ]
        }
      ]
    },
    {
      "cell_type": "code",
      "source": [
        "# D2"
      ],
      "metadata": {
        "id": "fcN6clcaMA85"
      },
      "execution_count": null,
      "outputs": []
    },
    {
      "cell_type": "markdown",
      "source": [
        "![image.png](data:image/png;base64,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)"
      ],
      "metadata": {
        "id": "ULDnkfo7IHEG"
      }
    },
    {
      "cell_type": "code",
      "source": [
        "# input()\n",
        "\n",
        "# โดยปกติการรับค่า input() จะได้ข้อมูลเป็น string เสมอ\n",
        "# ยกเว้น มีการ casting data type เช่น\n",
        "# - int(input()) แปลงเป็น integer\n",
        "# - float(input()) แปลงเป็น float\n",
        "# - str(input()) โดยปกติจะเป็นตัวนี้ ดังนั้นไม่ต้องใส่ เพราะเป็น string\n",
        "\n",
        "# กฏ: แต่ถ้าเป็น string  และมีการใช้ split() ข้อมูลจะถูกแบ่งโดยช่องว่าง เป็น list เสมอ"
      ],
      "metadata": {
        "id": "sVQ921pdMNgy"
      },
      "execution_count": null,
      "outputs": []
    },
    {
      "cell_type": "code",
      "source": [
        "# โดยปกติ input() ประเภทข้อมูลจะเป็น sting แต่เมื่อ .split() ข้อมูลจะถูกแบ่งออกเป็น list ทันที\n",
        "prod_ids = input().split() # line 1 -> รหัสสินค้า\n",
        "prices = input().split()   # line 2 -> ราคาสินค้า\n",
        "qid = input()              # line 3 -> รหัสสินค้าที่ต้องการค้นหา (q=query)\n",
        "\n",
        "print(prod_ids)\n",
        "print(prices)\n",
        "print(qid)\n",
        "\n",
        "# Logic นี้เหมาะกับงานที่มีความละเอียดและหลายขั้นตอน\n",
        "found = False # ใช้ boolean บอกสถานะว่ายังไม่พบข้อมูล = False\n",
        "\n",
        "for i in range(len(prod_ids)):\n",
        "    if qid == prod_ids[i]:\n",
        "        found = True # เมื่อไหร่ที่พบ ให้เปลี่ยนลอจิกสถานะบอกว่าเป็น True\n",
        "        break # และให้ออกจาก loop for\n",
        "\n",
        "if found: # ถ้าสถานะการค้นพบเป็น True ก็ให้พิมพ์ค่า\n",
        "    print(prices[i])\n",
        "else:\n",
        "    print(\"Not found\")"
      ],
      "metadata": {
        "id": "gS-6vNq1IqIn",
        "colab": {
          "base_uri": "https://localhost:8080/"
        },
        "outputId": "a912c327-c5da-47b5-8e98-831e6b3f58c4"
      },
      "execution_count": null,
      "outputs": [
        {
          "output_type": "stream",
          "name": "stdout",
          "text": [
            "a100 a200 a300 a400\n",
            "45 55 66 74.14\n",
            "a400\n",
            "['a100', 'a200', 'a300', 'a400']\n",
            "['45', '55', '66', '74.14']\n",
            "a400\n",
            "74.14\n"
          ]
        }
      ]
    },
    {
      "cell_type": "code",
      "source": [
        "# โค้ดนี้แก้ปัญหาเหมือนข้างต้น แต่ไม่ใช้ลอจิค found=True/False\n",
        "# แต่บอกว่า ถ้าพบให้พิมพ์ออกแสดงผลทันที\n",
        "\n",
        "prod_ids = input().split()  # line 1 -> รหัสสินค้า\n",
        "prices = input().split()   # line 2 -> ราคาสินค้า\n",
        "qid = input()              # line 3 -> รหัสสินค้าที่ต้องการค้นหา (q=query)\n",
        "\n",
        "\n",
        "for i in range(len(prod_ids)):\n",
        "    if qid == prod_ids[i]:\n",
        "        print(prices[i])\n",
        "        break\n",
        "else: # เป็น else ในระดับของ for-loop\n",
        "    print(\"Not found\")\n"
      ],
      "metadata": {
        "id": "jZb8mXMTGnmV",
        "colab": {
          "base_uri": "https://localhost:8080/"
        },
        "outputId": "6e33322e-47af-4d69-e887-ee06efdcde55"
      },
      "execution_count": null,
      "outputs": [
        {
          "output_type": "stream",
          "name": "stdout",
          "text": [
            "a100 a200 a300 a400\n",
            "20 30 40 50\n",
            "a200\n",
            "30\n"
          ]
        }
      ]
    },
    {
      "cell_type": "markdown",
      "source": [
        "![image.png](data:image/png;base64,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)"
      ],
      "metadata": {
        "id": "X9ozS22SPC_f"
      }
    },
    {
      "cell_type": "code",
      "source": [
        "# รหัสสินค้า\n",
        "prod_ids = input().split()\n",
        "\n",
        "# ราคาสินค้า\n",
        "raw_prices = input().split()\n",
        "\n",
        "# Convert raw prices to float\n",
        "# แปลงราคาจากข้อมูลประเภท string เป็น float โดยการเขียนฟังก์ชั่น lambda\n",
        "prices = [float(i) for i in raw_prices]\n",
        "\n",
        "# ราคาที่ต้องการค้นหา ในที่นี้เป็นการรับค่าโดยแปลงเป็น float\n",
        "qprice = float(input())\n",
        "\n",
        "found = False # เทคนิคการใช้ตัวแปรเช็คสถานะการพบข้อมูล\n",
        "\n",
        "# ค้นหาและแสดงรหัสสินค้าที่มีราคาน้อยกว่าหรือเท่ากับ qprice\n",
        "for i in range(len(prod_ids)):\n",
        "    if prices[i] <= qprice:\n",
        "        print(prod_ids[i])\n",
        "        found = True\n",
        "\n",
        "# ถ้าไม่พบ\n",
        "if not found:\n",
        "    print(\"Not found\")\n",
        "else:\n",
        "    print('found')"
      ],
      "metadata": {
        "id": "JBJeDbSwKPsP"
      },
      "execution_count": null,
      "outputs": []
    },
    {
      "cell_type": "code",
      "source": [
        "# D3\n",
        "# December 12, 2023"
      ],
      "metadata": {
        "id": "gpllhp7lGU6o"
      },
      "execution_count": null,
      "outputs": []
    },
    {
      "cell_type": "code",
      "source": [
        "# Review List Data Type"
      ],
      "metadata": {
        "id": "jW_U8_3uF7mh"
      },
      "execution_count": null,
      "outputs": []
    },
    {
      "cell_type": "code",
      "source": [
        "# Create a list of five integer\n",
        "\n",
        "my_list = [1, 2, 3, 4, 5]\n",
        "print(my_list)"
      ],
      "metadata": {
        "colab": {
          "base_uri": "https://localhost:8080/"
        },
        "id": "CUrSaB6vK1Ki",
        "outputId": "a4af313f-37d0-4613-89cc-c2c596a119f8"
      },
      "execution_count": null,
      "outputs": [
        {
          "output_type": "stream",
          "name": "stdout",
          "text": [
            "[1, 2, 3, 4, 5]\n"
          ]
        }
      ]
    },
    {
      "cell_type": "code",
      "source": [
        "# Find the length of a list\n",
        "\n",
        "my_list = [1, 2, 3, 4, 5]\n",
        "length = len(my_list)\n",
        "print(length)  # Output: 5"
      ],
      "metadata": {
        "colab": {
          "base_uri": "https://localhost:8080/"
        },
        "id": "rVLFs-juK1NH",
        "outputId": "84af720b-5d5b-4b42-c98f-ebe3a5ce017e"
      },
      "execution_count": null,
      "outputs": [
        {
          "output_type": "stream",
          "name": "stdout",
          "text": [
            "5\n"
          ]
        }
      ]
    },
    {
      "cell_type": "code",
      "source": [
        "# Add a new element to the end of the list\n",
        "\n",
        "my_list = [1, 2, 3]\n",
        "print(my_list)\n",
        "my_list.append(4)\n",
        "print(my_list)  # Output: [1, 2, 3, 4]"
      ],
      "metadata": {
        "colab": {
          "base_uri": "https://localhost:8080/"
        },
        "id": "6_YuPMLjK1PY",
        "outputId": "276f14d4-323c-455b-aa8b-0eab52e589ef"
      },
      "execution_count": null,
      "outputs": [
        {
          "output_type": "stream",
          "name": "stdout",
          "text": [
            "[1, 2, 3]\n",
            "[1, 2, 3, 4]\n"
          ]
        }
      ]
    },
    {
      "cell_type": "code",
      "source": [
        "# Insert\n",
        "\n",
        "my_list = [1, 2, 3]\n",
        "print(my_list)\n",
        "\n",
        "my_list.insert(1, 4)  # Insert 4 at index position = 1\n",
        "print(my_list)  # Output: [1, 4, 2, 3]\n"
      ],
      "metadata": {
        "colab": {
          "base_uri": "https://localhost:8080/"
        },
        "id": "08huod1GK1RP",
        "outputId": "2b194320-9366-459f-c90a-583326d2f799"
      },
      "execution_count": null,
      "outputs": [
        {
          "output_type": "stream",
          "name": "stdout",
          "text": [
            "[1, 2, 3]\n",
            "[1, 4, 2, 3]\n"
          ]
        }
      ]
    },
    {
      "cell_type": "code",
      "source": [
        "# Remove\n",
        "\n",
        "my_list = [1, 2, 3, 4, 5]\n",
        "my_list.remove(3)  # Remove the value 3\n",
        "print(my_list)  # Output: [1, 2, 4, 5]\n"
      ],
      "metadata": {
        "colab": {
          "base_uri": "https://localhost:8080/"
        },
        "id": "mYIRZ6FMK1TP",
        "outputId": "538323de-269f-4c53-d52f-f0dd2654fbc9"
      },
      "execution_count": null,
      "outputs": [
        {
          "output_type": "stream",
          "name": "stdout",
          "text": [
            "[1, 2, 4, 5]\n"
          ]
        }
      ]
    },
    {
      "cell_type": "code",
      "source": [
        "# Primitive Data -> One variable -> one value\n",
        "# - string\n",
        "# - boolean\n",
        "# - integer\n",
        "# - float\n",
        "\n",
        "# Collection Data -> One variable -> store more than one values\n",
        "# - list\n",
        "# - tuple\n",
        "# - set\n",
        "# - dictionary"
      ],
      "metadata": {
        "id": "PD7nTBx1K1VW"
      },
      "execution_count": null,
      "outputs": []
    },
    {
      "cell_type": "code",
      "source": [
        "# Print 0-10\n",
        "for i in range(11):\n",
        "    print(i)"
      ],
      "metadata": {
        "id": "A7nmekRtFyHu",
        "colab": {
          "base_uri": "https://localhost:8080/"
        },
        "outputId": "7715fa08-ed70-4684-9f1d-e411ba86af8e"
      },
      "execution_count": null,
      "outputs": [
        {
          "output_type": "stream",
          "name": "stdout",
          "text": [
            "0\n",
            "1\n",
            "2\n",
            "3\n",
            "4\n",
            "5\n",
            "6\n",
            "7\n",
            "8\n",
            "9\n",
            "10\n"
          ]
        }
      ]
    },
    {
      "cell_type": "code",
      "source": [
        "# Add 0-10 to variable 'n' as a list\n",
        "\n",
        "n = [] # Empty List\n",
        "print(n)\n",
        "\n",
        "for i in range(11):\n",
        "    n.append(i)\n",
        "    print(n)\n",
        "\n",
        "print(f'Final Value : {n}')"
      ],
      "metadata": {
        "colab": {
          "base_uri": "https://localhost:8080/"
        },
        "id": "YPXOLx_eNeTh",
        "outputId": "ff74da97-3952-488d-9a15-eb9522084b2c"
      },
      "execution_count": null,
      "outputs": [
        {
          "output_type": "stream",
          "name": "stdout",
          "text": [
            "[]\n",
            "[0]\n",
            "[0, 1]\n",
            "[0, 1, 2]\n",
            "[0, 1, 2, 3]\n",
            "[0, 1, 2, 3, 4]\n",
            "[0, 1, 2, 3, 4, 5]\n",
            "[0, 1, 2, 3, 4, 5, 6]\n",
            "[0, 1, 2, 3, 4, 5, 6, 7]\n",
            "[0, 1, 2, 3, 4, 5, 6, 7, 8]\n",
            "[0, 1, 2, 3, 4, 5, 6, 7, 8, 9]\n",
            "[0, 1, 2, 3, 4, 5, 6, 7, 8, 9, 10]\n",
            "Final Value : [0, 1, 2, 3, 4, 5, 6, 7, 8, 9, 10]\n"
          ]
        }
      ]
    },
    {
      "cell_type": "code",
      "source": [
        "# Lambda Function -> Expression Function\n",
        "[<expression> for <condition>]"
      ],
      "metadata": {
        "id": "gDcBgaxlF3G6"
      },
      "execution_count": null,
      "outputs": []
    },
    {
      "cell_type": "code",
      "source": [
        "# Lambda Function\n",
        "\n",
        "\n",
        "n =[i for i in range(11)]\n",
        "\n",
        "print(n)"
      ],
      "metadata": {
        "colab": {
          "base_uri": "https://localhost:8080/"
        },
        "id": "7V6uUB30OATn",
        "outputId": "d77c124e-7dcf-4c86-9f51-d42a2d154e62"
      },
      "execution_count": null,
      "outputs": [
        {
          "output_type": "stream",
          "name": "stdout",
          "text": [
            "[0, 1, 2, 3, 4, 5, 6, 7, 8, 9, 10]\n"
          ]
        }
      ]
    },
    {
      "cell_type": "code",
      "source": [
        "# Lambda Function\n",
        "\n",
        "\n",
        "n =[i**2 for i in range(11)]\n",
        "\n",
        "print(n)"
      ],
      "metadata": {
        "colab": {
          "base_uri": "https://localhost:8080/"
        },
        "id": "XnSEsXt_ORdp",
        "outputId": "3861830a-2530-46ac-b091-70d926eb61a4"
      },
      "execution_count": null,
      "outputs": [
        {
          "output_type": "stream",
          "name": "stdout",
          "text": [
            "[0, 1, 4, 9, 16, 25, 36, 49, 64, 81, 100]\n"
          ]
        }
      ]
    },
    {
      "cell_type": "code",
      "source": [
        "# LAmbda Function\n",
        "# Square Root of 1-10\n",
        "import math\n",
        "\n",
        "n =[math.sqrt(i) for i in range(1, 11)]\n",
        "\n",
        "print(n)"
      ],
      "metadata": {
        "colab": {
          "base_uri": "https://localhost:8080/"
        },
        "id": "KPjGgapnOcFQ",
        "outputId": "5ab69839-7c95-41b6-d2b2-a81bd70b8e78"
      },
      "execution_count": null,
      "outputs": [
        {
          "output_type": "stream",
          "name": "stdout",
          "text": [
            "[1.0, 1.4142135623730951, 1.7320508075688772, 2.0, 2.23606797749979, 2.449489742783178, 2.6457513110645907, 2.8284271247461903, 3.0, 3.1622776601683795]\n"
          ]
        }
      ]
    },
    {
      "cell_type": "code",
      "source": [
        "# LAmbda Function\n",
        "# Find the value of exponent of itself from 2 to 100\n",
        "\n",
        "n =[i**i for i in range(2, 101)]\n",
        "\n",
        "print(n)"
      ],
      "metadata": {
        "colab": {
          "base_uri": "https://localhost:8080/"
        },
        "id": "Us6HdkyRN3Xq",
        "outputId": "5d7d9933-7870-410a-d0cd-4e032eb80205"
      },
      "execution_count": null,
      "outputs": [
        {
          "output_type": "stream",
          "name": "stdout",
          "text": [
            "[4, 27, 256, 3125, 46656, 823543, 16777216, 387420489, 10000000000, 285311670611, 8916100448256, 302875106592253, 11112006825558016, 437893890380859375, 18446744073709551616, 827240261886336764177, 39346408075296537575424, 1978419655660313589123979, 104857600000000000000000000, 5842587018385982521381124421, 341427877364219557396646723584, 20880467999847912034355032910567, 1333735776850284124449081472843776, 88817841970012523233890533447265625, 6156119580207157310796674288400203776, 443426488243037769948249630619149892803, 33145523113253374862572728253364605812736, 2567686153161211134561828214731016126483469, 205891132094649000000000000000000000000000000, 17069174130723235958610643029059314756044734431, 1461501637330902918203684832716283019655932542976, 129110040087761027839616029934664535539337183380513, 11756638905368616011414050501310355554617941909569536, 1102507499354148695951786433413508348166942596435546875, 106387358923716524807713475752456393740167855629859291136, 10555134955777783414078330085995832946127396083370199442517, 1075911801979993982060429252856123779115487368830416064610304, 112595147462071192539789448988889059930192105219196517009951959, 12089258196146291747061760000000000000000000000000000000000000000, 1330877630632711998713399240963346255985889330161650994325137953641, 150130937545296572356771972164254457814047970568738777235893533016064, 17343773367030267519903781288812032158308062539012091953077767198995507, 2050773823560610053645205609172376035486179836520607547294916966189367296, 248063644451341145494649182395412689744530581492654164321720600128173828125, 30680346300794274230660433647640397899788170645078853280082659754365153181696, 3877924263464448622666648186154330754898344901344205917642325627886496385062863, 500702078263459319174537025249570888246709955377400223021257741084821677152403456, 66009724686219550843768321818371771650147004059278069406814190436565131829325062449, 8881784197001252323389053344726562500000000000000000000000000000000000000000000000000, 1219211305094648479473193481872927834667576992593770717189298225284399541977208231315051, 170676555274132171974277914691501574771358362295975962674353045737940041855191232907575296, 24356848165022712132477606520104725518533453128685640844505130879576720609150223301256150373, 3542118045010639240328481337533320712639808638036812473211109743262552383710557968252383789056, 524744532468751923546122657597368049278513737089035272057324643668607677682302892208099365234375, 79164324866862966607842406018063254671922245312646690223362402918484170424104310169552592050323456, 12158129736671364080886280192352136280305445908985401876990335800107686586023081377754367704855688057, 1900306380941594479763883944859394903933421733915497351026033862324967197615194912638195921621021097984, 302182066535432255614734701333399524449282910532282724655138380663835618264136459996754463358299552427939, 48873677980689257489322752273774603865660850176000000000000000000000000000000000000000000000000000000000000, 8037480562545943774063961638435258139453693382991023311670379647429452389091570630196571368048020948560431661, 1343645645152250046583026779322969373035290953763411540290906502671301148502338015157014479136799509522304466944, 228273036346967044979900512337165522400819024722490933829954793073267717315004135590642802687246850771579138342847, 39402006196394479212279040100143613805079739270465446667948293404245721771497210611414266254884915640806627990306816, 6908252164760920851405538694468286082230378724259454186289117297729987129104901877330036086277686990797519683837890625, 1229984803535237425357460579824952453848609953896821302286319065669207712270213276022808840210306942692366529569453244416, 222337020242360576812569226538683753874082408437758291741262115823894811650848346334502642370010973465496690788650052277723, 40794917954274783314474389422963594412010553412954188046665939634971631296545460720786532465498226465248060567545587093733376, 7596040312163297274222442578208043236112279041839441308045514203595638030283176823539793587591372230230103933110810192201741429, 1435036016098684342856030763566710717400773837392460666392490000000000000000000000000000000000000000000000000000000000000000000000, 275006373483461607657434076627252658495183350017755660813753981774508905998081919405140568848353397233796618192645698819765129996471, 53449019547361999534025300140057538544940601393106611570269540644280818850419033099696863861289188541180498511377339362341642322313216, 10533405146807286720373659460502060785759379112212598116064998418834781689316645387966435364502141349866164216580595609788325190062013833, 2104491907585431988618502284342828809117486560121225263528600151456547899286616078556844571139130505063616644582773621942951905668236312576, 426181657761258833198605424151960757395791315610122269092300199179088043392834051588896184557263865748388820264835885609500110149383544921875, 87464740776733097769356125936571978049204087241719881761346374524717952404307119962211675102409649648957510056235276523073007403698815894552576, 18188037387806198379277339915556929647807403283187048631478337739929618787870634227045716719924575689062274471430368865388203540672666042530996797, 3831589812313461262138726500006414268147534037893115512325908939170687185145438579006950082195309705885134607990418665607337632973770507236843454464, 817598737071050959409276229318696698168591900537987468276932073768901912096673342793217657607316423968313726492566673678273923566086786121551339775919, 176684706477838432958329750074291851582748389687561895812160620129261977600000000000000000000000000000000000000000000000000000000000000000000000000000000, 38662196978715633273404758790074316960214213096178319621856934259807530937321861485192508542873470637501160980081794035970219670238407078788135931371782481, 8565168191027899133831008848558876386078278675251413891745861716969297101478444754225582357726688645588131450754731704968996267139619369035601073162078388224, 1920797877785042297826876342398329981366626138903106707239638623062073160162030496354441554187075110650838449453108757445590084411555537438824653742747212640587, 435973436827325522360279881406914796368935566412408014666801047266959214000936369697318397328752293573138388721289594366953995072735552848220101541587045199118336, 100140253328453899494506997059845948876248360208192710258703340107188607793155063635811515105559240430619077757390331456723193970237417715907213278114795684814453125, 23273773687010809805103263055261877739102071580597940409585933109624493442480014587281684425109432546907773222375549181098538730989934437386098275807854764894176935936, 5472364007515806092890840962213361933646557867359955457554369346343376220574263169290566361924999277451198802156950364045812455566817070274944448633167362192918054601383, 1301592834942972055182648307417315364538725075960067827915311484722452340966317215805106820959190833309704934346517741237438752456673499160125624414995891111204155079786496, 313119843606264301926053344163576361349265045995115651405929697601914062309331717222037671868698420619053704956499930323034173850662765737986672484408801585719796136592384409, 76177348045866392339289727720615561750424801402395196724001565744957137343033038019601000000000000000000000000000000000000000000000000000000000000000000000000000000000000000000, 18739875497044403588343023979942190913870699099585922106152367184893220649019310617359174987694158429118066514085327846177870674743597929299970612055662195817332948573029136642691, 4661010870363696423905966214003100982132353937802439629342577411201858740087903585402257017449025558046308403555128684298484146339920553893653953988411898447534660818749990933364736, 1171963849265444210417582587751248824708146148109809710033315342359111701761656602431435296049358716378517967896050409107202745103300944452206991034477139649315017364735008987336482893, 297864151605271565671522691888487433398201478214104374836863448020189421697406537648052418936130195867966416829477021503670303547569409436317072769246334246265969267698928260777661956096, 76514281153818492497108910522923939889608448570427803043646059567958108943618778356292728753731576478313833091931623635414286047187179783985819399826089348692903513438068330287933349609375, 19862704051982797580576125639477612374708322893151441233985491658847582706097318376646920317555554524971459613579567077892532792722158677152071233347563474577287871314398899332488478637162496, 5210245939718361468048211048414496022534389576033913164940029913016568215580398296261072019231723279851007241838011659882766685337218633992220688288491655299087016195985205218347711578485744737, 1380878341261486750656911803252309726876604105686729638072729543243701479670593033211008001443536626310535980077544691196522513327846303307992442770355560270350429006522588433404602387992091295744, 369729637649726772657187905628805440595668764281741102430259972423552570455277523421410650010128232727940978889548326540119429996769494359451621570193644014418071060667659301384999779999159200499899, 100000000000000000000000000000000000000000000000000000000000000000000000000000000000000000000000000000000000000000000000000000000000000000000000000000000000000000000000000000000000000000000000000000000]\n"
          ]
        }
      ]
    },
    {
      "cell_type": "code",
      "source": [
        "# Even Number\n",
        "\n",
        "even_numbers = []\n",
        "\n",
        "for i in range(1, 101):\n",
        "    if i % 2 == 0:\n",
        "        even_numbers.append(i)\n",
        "\n",
        "print(even_numbers)\n"
      ],
      "metadata": {
        "colab": {
          "base_uri": "https://localhost:8080/"
        },
        "id": "g9OSCYs4PdOW",
        "outputId": "78a7f8e0-94e2-43e6-e063-240eadb964a1"
      },
      "execution_count": null,
      "outputs": [
        {
          "output_type": "stream",
          "name": "stdout",
          "text": [
            "[2, 4, 6, 8, 10, 12, 14, 16, 18, 20, 22, 24, 26, 28, 30, 32, 34, 36, 38, 40, 42, 44, 46, 48, 50, 52, 54, 56, 58, 60, 62, 64, 66, 68, 70, 72, 74, 76, 78, 80, 82, 84, 86, 88, 90, 92, 94, 96, 98, 100]\n"
          ]
        }
      ]
    },
    {
      "cell_type": "code",
      "source": [
        "# Even Number with lambda\n",
        "\n",
        "even_numbers = [x for x in range(1, 101) if x % 2 == 0]\n",
        "\n",
        "print(even_numbers)\n"
      ],
      "metadata": {
        "colab": {
          "base_uri": "https://localhost:8080/"
        },
        "id": "EvFKwDDdPWcb",
        "outputId": "906fad81-659f-427c-9708-584e464ee1b1"
      },
      "execution_count": null,
      "outputs": [
        {
          "output_type": "stream",
          "name": "stdout",
          "text": [
            "[2, 4, 6, 8, 10, 12, 14, 16, 18, 20, 22, 24, 26, 28, 30, 32, 34, 36, 38, 40, 42, 44, 46, 48, 50, 52, 54, 56, 58, 60, 62, 64, 66, 68, 70, 72, 74, 76, 78, 80, 82, 84, 86, 88, 90, 92, 94, 96, 98, 100]\n"
          ]
        }
      ]
    },
    {
      "cell_type": "code",
      "source": [
        "# ยกกำลัง 2 ของเลขคี่ 1-100\n",
        "\n",
        "even_number = []\n",
        "\n",
        "for i in range (1,101):\n",
        " if i % 2 != 0:\n",
        "    squared = i ** 2\n",
        "    even_number.append(squared)\n",
        "print(even_number)"
      ],
      "metadata": {
        "colab": {
          "base_uri": "https://localhost:8080/"
        },
        "id": "kT24HyeTQ2h_",
        "outputId": "322c994e-df8e-49f3-9168-67c9524f7071"
      },
      "execution_count": null,
      "outputs": [
        {
          "output_type": "stream",
          "name": "stdout",
          "text": [
            "[1, 9, 25, 49, 81, 121, 169, 225, 289, 361, 441, 529, 625, 729, 841, 961, 1089, 1225, 1369, 1521, 1681, 1849, 2025, 2209, 2401, 2601, 2809, 3025, 3249, 3481, 3721, 3969, 4225, 4489, 4761, 5041, 5329, 5625, 5929, 6241, 6561, 6889, 7225, 7569, 7921, 8281, 8649, 9025, 9409, 9801]\n"
          ]
        }
      ]
    },
    {
      "cell_type": "code",
      "source": [
        "# ยกกำลัง 2 ของเลขคี่ 1-100\n",
        "\n",
        "even_number = []\n",
        "\n",
        "for i in range (1,101):\n",
        " if i % 2 != 0:\n",
        "    even_number.append(i ** 2)\n",
        "print(even_number)"
      ],
      "metadata": {
        "colab": {
          "base_uri": "https://localhost:8080/"
        },
        "id": "Ktb6Gp4yR7_H",
        "outputId": "c889ed1d-bca2-496d-ed47-fbbb82135d35"
      },
      "execution_count": null,
      "outputs": [
        {
          "output_type": "stream",
          "name": "stdout",
          "text": [
            "[1, 9, 25, 49, 81, 121, 169, 225, 289, 361, 441, 529, 625, 729, 841, 961, 1089, 1225, 1369, 1521, 1681, 1849, 2025, 2209, 2401, 2601, 2809, 3025, 3249, 3481, 3721, 3969, 4225, 4489, 4761, 5041, 5329, 5625, 5929, 6241, 6561, 6889, 7225, 7569, 7921, 8281, 8649, 9025, 9409, 9801]\n"
          ]
        }
      ]
    },
    {
      "cell_type": "code",
      "source": [
        "# Lambda Function\n",
        "\n",
        "even_number = list(map(lambda x: x**2, filter(lambda x: x % 2 != 0, range(1, 101))))\n",
        "\n",
        "print(even_number)\n"
      ],
      "metadata": {
        "colab": {
          "base_uri": "https://localhost:8080/"
        },
        "id": "Gi2pSf6GRvyj",
        "outputId": "5b1b63b4-1dfb-4867-87f8-b9b106377d8b"
      },
      "execution_count": null,
      "outputs": [
        {
          "output_type": "stream",
          "name": "stdout",
          "text": [
            "[1, 9, 25, 49, 81, 121, 169, 225, 289, 361, 441, 529, 625, 729, 841, 961, 1089, 1225, 1369, 1521, 1681, 1849, 2025, 2209, 2401, 2601, 2809, 3025, 3249, 3481, 3721, 3969, 4225, 4489, 4761, 5041, 5329, 5625, 5929, 6241, 6561, 6889, 7225, 7569, 7921, 8281, 8649, 9025, 9409, 9801]\n"
          ]
        }
      ]
    },
    {
      "cell_type": "code",
      "source": [
        "even_number = list(map(lambda x: x**2, [i for i in range(1, 101) if i % 2 != 0]))\n",
        "\n",
        "print(even_number)\n"
      ],
      "metadata": {
        "colab": {
          "base_uri": "https://localhost:8080/"
        },
        "id": "-0gBu-hNQcwv",
        "outputId": "743b1820-c43b-48a8-8a88-a7f377dc356b"
      },
      "execution_count": null,
      "outputs": [
        {
          "output_type": "stream",
          "name": "stdout",
          "text": [
            "[1, 9, 25, 49, 81, 121, 169, 225, 289, 361, 441, 529, 625, 729, 841, 961, 1089, 1225, 1369, 1521, 1681, 1849, 2025, 2209, 2401, 2601, 2809, 3025, 3249, 3481, 3721, 3969, 4225, 4489, 4761, 5041, 5329, 5625, 5929, 6241, 6561, 6889, 7225, 7569, 7921, 8281, 8649, 9025, 9409, 9801]\n"
          ]
        }
      ]
    },
    {
      "cell_type": "code",
      "source": [
        "sentence = \"the quick brown fox jumps over the lazy dog\"\n",
        "#             3.   5.    5.   3.   5.   4.  ....\n",
        "\n",
        "# [3, 5, 5, 3 ...]\n",
        "\n",
        "# โจทย์ # ให้ตัดคำจากตัวแปรและให้สร้าง List ใหม่เพื่อเก็บความยาวของแต่ละคำ ยกเว้นคำว่า the\n",
        "\n",
        "# [5, 5, 3 ...]\n",
        "# ผลลัพธ์ที่ได้\n",
        "['the', 'quick', 'brown', 'fox', 'jumps', 'over', 'the', 'lazy', 'dog']\n",
        "[5, 5, 3, 5, 4, 4, 3]"
      ],
      "metadata": {
        "id": "ZFZfh2j2PRZ6"
      },
      "execution_count": null,
      "outputs": []
    },
    {
      "cell_type": "code",
      "source": [
        "sentence = \"the quick brown fox jumps over the lazy dog\"\n",
        "\n",
        "words = sentence.split()    # จะได้ List ของคำต่าง ๆ\n",
        "print(words)\n",
        "\n",
        "word_lengths =  []          # สร้าง List ว่างตัวใหม่ -> ผลลัพธ์ของโจทย์เก็บไว้ที่นี่ ความยาวของคำยกเว้น 'the'\n",
        "\n",
        "for i in words:\n",
        "    if i != 'the':\n",
        "        word_lengths.append(len(i))\n",
        "        print(word_lengths)\n",
        "\n",
        "print()\n",
        "print(f'The list : {words}')\n",
        "print(f'The length {word_lengths}')\n"
      ],
      "metadata": {
        "colab": {
          "base_uri": "https://localhost:8080/"
        },
        "id": "gvo5KYX8N0Yg",
        "outputId": "5a62a0ec-c0d8-4503-f130-7685a928f574"
      },
      "execution_count": null,
      "outputs": [
        {
          "output_type": "stream",
          "name": "stdout",
          "text": [
            "['the', 'quick', 'brown', 'fox', 'jumps', 'over', 'the', 'lazy', 'dog']\n",
            "[5]\n",
            "[5, 5]\n",
            "[5, 5, 3]\n",
            "[5, 5, 3, 5]\n",
            "[5, 5, 3, 5, 4]\n",
            "[5, 5, 3, 5, 4, 4]\n",
            "[5, 5, 3, 5, 4, 4, 3]\n",
            "\n",
            "The list : ['the', 'quick', 'brown', 'fox', 'jumps', 'over', 'the', 'lazy', 'dog']\n",
            "The length [5, 5, 3, 5, 4, 4, 3]\n"
          ]
        }
      ]
    },
    {
      "cell_type": "code",
      "source": [
        "sentence = \"the quick brown fox jumps over the lazy dog\"\n",
        "\n",
        "words = sentence.split()    # จะได้ List ของคำต่าง ๆ\n",
        "print(words)\n",
        "\n",
        "word_lengths =  []          # สร้าง List ว่างตัวใหม่ -> ผลลัพธ์ของโจทย์เก็บไว้ที่นี่ ความยาวของคำยกเว้น 'the'\n",
        "\n",
        "for i in words:\n",
        "    if i != 'the':\n",
        "        word_lengths.append(len(i))\n",
        "        print(f'{i} = {len(i)}')\n",
        "\n",
        "\n",
        "print()\n",
        "print(f'The list : {words}')\n",
        "print(f'The length {word_lengths}')\n"
      ],
      "metadata": {
        "colab": {
          "base_uri": "https://localhost:8080/"
        },
        "id": "FjvJXrl4Wndx",
        "outputId": "19143d70-6e88-4c50-c717-90a1efad69af"
      },
      "execution_count": null,
      "outputs": [
        {
          "output_type": "stream",
          "name": "stdout",
          "text": [
            "['the', 'quick', 'brown', 'fox', 'jumps', 'over', 'the', 'lazy', 'dog']\n",
            "quick = 5\n",
            "brown = 5\n",
            "fox = 3\n",
            "jumps = 5\n",
            "over = 4\n",
            "lazy = 4\n",
            "dog = 3\n",
            "\n",
            "The list : ['the', 'quick', 'brown', 'fox', 'jumps', 'over', 'the', 'lazy', 'dog']\n",
            "The length [5, 5, 3, 5, 4, 4, 3]\n"
          ]
        }
      ]
    },
    {
      "cell_type": "code",
      "source": [
        "# Lambda\n",
        "\n",
        "sentence = \"the quick brown fox jumps over the lazy dog\"\n",
        "words = sentence.split()    # จะได้ List ของคำต่าง ๆ\n",
        "print(words)\n",
        "\n",
        "\n",
        "# Lambda\n",
        "word_lengths = [len(i) for i in words if i != 'the']\n",
        "print(word_lengths)"
      ],
      "metadata": {
        "colab": {
          "base_uri": "https://localhost:8080/"
        },
        "id": "BmBgI8W8W6Jx",
        "outputId": "5b4c2c63-b4fb-43ea-b283-ea0dce660f53"
      },
      "execution_count": null,
      "outputs": [
        {
          "output_type": "stream",
          "name": "stdout",
          "text": [
            "['the', 'quick', 'brown', 'fox', 'jumps', 'over', 'the', 'lazy', 'dog']\n",
            "[5, 5, 3, 5, 4, 4, 3]\n"
          ]
        }
      ]
    },
    {
      "cell_type": "code",
      "source": [
        "# 4\n",
        "# December 29, 2023"
      ],
      "metadata": {
        "id": "OFOzFSv3WjQi"
      },
      "execution_count": null,
      "outputs": []
    },
    {
      "cell_type": "code",
      "source": [
        "# Collection Type\n",
        "# - list\n",
        "# - tuple\n",
        "# - set\n",
        "# - dict"
      ],
      "metadata": {
        "id": "wug_fwJLNXVm"
      },
      "execution_count": null,
      "outputs": []
    },
    {
      "cell_type": "code",
      "source": [
        "# Create a list of five integer\n",
        "\n",
        "my_list = [1, 2, 3, 4, 5]\n",
        "print(my_list)"
      ],
      "metadata": {
        "id": "N6zHauz5NXX-",
        "colab": {
          "base_uri": "https://localhost:8080/"
        },
        "outputId": "9d3eb939-3972-452f-dbe0-dd4f5457300b"
      },
      "execution_count": null,
      "outputs": [
        {
          "output_type": "stream",
          "name": "stdout",
          "text": [
            "[1, 2, 3, 4, 5]\n"
          ]
        }
      ]
    },
    {
      "cell_type": "code",
      "source": [
        "# Find the length of a list\n",
        "\n",
        "my_list = [1, 2, 3, 4, 5]\n",
        "length = len(my_list)\n",
        "print(length)  # Output: 5"
      ],
      "metadata": {
        "id": "okOEwQIrNXaL",
        "colab": {
          "base_uri": "https://localhost:8080/"
        },
        "outputId": "e65a0f4b-543c-4189-988c-a427f52e8256"
      },
      "execution_count": null,
      "outputs": [
        {
          "output_type": "stream",
          "name": "stdout",
          "text": [
            "5\n"
          ]
        }
      ]
    },
    {
      "cell_type": "code",
      "source": [
        "# Add a new element to the end of the list\n",
        "\n",
        "my_list = [1, 2, 3]\n",
        "print(my_list)\n",
        "\n",
        "my_list.append(999)\n",
        "print(my_list)  # Output: [1, 2, 3, 999]"
      ],
      "metadata": {
        "id": "WvR5eXyPWU-j",
        "colab": {
          "base_uri": "https://localhost:8080/"
        },
        "outputId": "d8022061-e45c-4659-dd81-44f10e6576c7"
      },
      "execution_count": null,
      "outputs": [
        {
          "output_type": "stream",
          "name": "stdout",
          "text": [
            "[1, 2, 3]\n",
            "[1, 2, 3, 999]\n"
          ]
        }
      ]
    },
    {
      "cell_type": "code",
      "source": [
        "# Remove\n",
        "\n",
        "my_list = [1, 2, 3, 4, 5]\n",
        "my_list.remove(3)  # Remove the value 3\n",
        "print(my_list)  # Output: [1, 2, 4, 5]"
      ],
      "metadata": {
        "colab": {
          "base_uri": "https://localhost:8080/"
        },
        "id": "tCLbDXBqSkV3",
        "outputId": "61ac805f-1859-452d-8419-54ed6610e679"
      },
      "execution_count": null,
      "outputs": [
        {
          "output_type": "stream",
          "name": "stdout",
          "text": [
            "[1, 2, 4, 5]\n"
          ]
        }
      ]
    },
    {
      "cell_type": "code",
      "source": [
        "print(my_list[0])"
      ],
      "metadata": {
        "colab": {
          "base_uri": "https://localhost:8080/"
        },
        "id": "u9oc32w5SxcF",
        "outputId": "5764633d-5c9f-475d-cf21-1c32892a62b8"
      },
      "execution_count": null,
      "outputs": [
        {
          "output_type": "stream",
          "name": "stdout",
          "text": [
            "1\n"
          ]
        }
      ]
    },
    {
      "cell_type": "code",
      "source": [
        "my_list = [1, 2, 3, 4, 5]\n",
        "\n",
        "print(my_list[3])\n"
      ],
      "metadata": {
        "colab": {
          "base_uri": "https://localhost:8080/"
        },
        "id": "-9UemxHNSzmT",
        "outputId": "024b8f96-8737-4bc0-f6db-79317b257ecd"
      },
      "execution_count": null,
      "outputs": [
        {
          "output_type": "stream",
          "name": "stdout",
          "text": [
            "4\n"
          ]
        }
      ]
    },
    {
      "cell_type": "code",
      "source": [],
      "metadata": {
        "id": "SBMMkYqXS8V7"
      },
      "execution_count": null,
      "outputs": []
    },
    {
      "cell_type": "code",
      "source": [
        "# Set\n",
        "# A set is a collection which is unordered and unindexed.\n",
        "# In Python sets are written with curly brackets. {}\n",
        "\n",
        "# ข้อมูลไม่เรียงลำดับก่อนหลัง\n",
        "#  ไม่มีตัวชี้ลำดับ\n",
        "#  ข้อมูลไม่สามารถซ้ำได้\n",
        "#  การกำหนดจะอยู่ในเครื่องหมาย {}"
      ],
      "metadata": {
        "id": "LA-1yxOZWR-f"
      },
      "execution_count": null,
      "outputs": []
    },
    {
      "cell_type": "code",
      "source": [
        "# Create Set\n",
        "\n",
        "this_set = {'apple', 'banana', 'cherry'}\n",
        "print(this_set)\n",
        "\n",
        "# สังเกตว่า การแสดงผล อาจจะไม่เรียงตามลำดับก่อนหลัง เหมือนขณะสร้างข้อมูลครั้งแรก"
      ],
      "metadata": {
        "id": "CVwI-ha4WF7j",
        "colab": {
          "base_uri": "https://localhost:8080/"
        },
        "outputId": "d7a23c5a-f294-47d4-9311-7cecbec6eb8d"
      },
      "execution_count": null,
      "outputs": [
        {
          "output_type": "stream",
          "name": "stdout",
          "text": [
            "{'banana', 'cherry', 'apple'}\n"
          ]
        }
      ]
    },
    {
      "cell_type": "code",
      "source": [
        "# No subscriptable / No index -> Unordered\n",
        "print(this_set[0])"
      ],
      "metadata": {
        "colab": {
          "base_uri": "https://localhost:8080/",
          "height": 180
        },
        "id": "oNxBRU94TFRX",
        "outputId": "e72ea9af-82ed-4e73-f7bb-887c27f2bb13"
      },
      "execution_count": null,
      "outputs": [
        {
          "output_type": "error",
          "ename": "TypeError",
          "evalue": "ignored",
          "traceback": [
            "\u001b[0;31m---------------------------------------------------------------------------\u001b[0m",
            "\u001b[0;31mTypeError\u001b[0m                                 Traceback (most recent call last)",
            "\u001b[0;32m<ipython-input-11-d462bce63f86>\u001b[0m in \u001b[0;36m<cell line: 1>\u001b[0;34m()\u001b[0m\n\u001b[0;32m----> 1\u001b[0;31m \u001b[0mprint\u001b[0m\u001b[0;34m(\u001b[0m\u001b[0mthis_set\u001b[0m\u001b[0;34m[\u001b[0m\u001b[0;36m0\u001b[0m\u001b[0;34m]\u001b[0m\u001b[0;34m)\u001b[0m\u001b[0;34m\u001b[0m\u001b[0;34m\u001b[0m\u001b[0m\n\u001b[0m",
            "\u001b[0;31mTypeError\u001b[0m: 'set' object is not subscriptable"
          ]
        }
      ]
    },
    {
      "cell_type": "code",
      "source": [
        "# Access Element\n",
        "\n",
        "this_set = {'apple', 'banana', 'cherry'}\n",
        "\n",
        "for i in this_set:\n",
        "    print(i)"
      ],
      "metadata": {
        "colab": {
          "base_uri": "https://localhost:8080/"
        },
        "id": "TiTcrS8UTROt",
        "outputId": "b3984bd1-45c9-4734-d893-6d18b445c67e"
      },
      "execution_count": null,
      "outputs": [
        {
          "output_type": "stream",
          "name": "stdout",
          "text": [
            "banana\n",
            "cherry\n",
            "apple\n"
          ]
        }
      ]
    },
    {
      "cell_type": "code",
      "source": [
        "# Checking data\n",
        "if 'apple' in this_set:\n",
        "    print(\"Yes\")"
      ],
      "metadata": {
        "colab": {
          "base_uri": "https://localhost:8080/"
        },
        "id": "ZnXY6L7sTMQp",
        "outputId": "b052113d-5a47-444c-edbd-b6083d3dcb21"
      },
      "execution_count": null,
      "outputs": [
        {
          "output_type": "stream",
          "name": "stdout",
          "text": [
            "Yes\n"
          ]
        }
      ]
    },
    {
      "cell_type": "code",
      "source": [
        "# Checking data\n",
        "if 'Apple' in this_set:\n",
        "    print(\"Yes\")\n",
        "else:\n",
        "    print(\"Not found!\")"
      ],
      "metadata": {
        "id": "Xd3ABeU6Nt4k",
        "colab": {
          "base_uri": "https://localhost:8080/"
        },
        "outputId": "7bd11f82-9d73-497f-fac9-b6618156b05e"
      },
      "execution_count": null,
      "outputs": [
        {
          "output_type": "stream",
          "name": "stdout",
          "text": [
            "Not found!\n"
          ]
        }
      ]
    },
    {
      "cell_type": "code",
      "source": [
        "# Set is uniqueness -> no duplicated value\n",
        "\n",
        "this_set = {'apple', 'banana', 'cherry'}\n",
        "print(this_set)\n",
        "\n",
        "this_set.add('mango')\n",
        "this_set.add('grape')\n",
        "this_set.add('banana') # have one existed in set. So, cannot be added.\n",
        "print(this_set)"
      ],
      "metadata": {
        "colab": {
          "base_uri": "https://localhost:8080/"
        },
        "id": "GFi9788iTqXp",
        "outputId": "ec71127b-6159-442b-99ab-585e9bc55d33"
      },
      "execution_count": null,
      "outputs": [
        {
          "output_type": "stream",
          "name": "stdout",
          "text": [
            "{'banana', 'cherry', 'apple'}\n",
            "{'banana', 'cherry', 'apple', 'mango', 'grape'}\n"
          ]
        }
      ]
    },
    {
      "cell_type": "code",
      "source": [
        "# Get the number of items in a set: length\n",
        "\n",
        "this_set = {\"apple\", \"banana\", \"cherry\", \"grapes\"}\n",
        "print(len(this_set))"
      ],
      "metadata": {
        "id": "irPcJ6b8FlCW",
        "colab": {
          "base_uri": "https://localhost:8080/"
        },
        "outputId": "cc6a249b-e327-479e-b55c-2ee4c36d9019"
      },
      "execution_count": null,
      "outputs": [
        {
          "output_type": "stream",
          "name": "stdout",
          "text": [
            "4\n"
          ]
        }
      ]
    },
    {
      "cell_type": "code",
      "source": [
        "# Remove data ด้วยคำสั่ง remove()\n",
        "\n",
        "this_set = {\"apple\", \"banana\", \"cherry\"}\n",
        "print(this_set)\n",
        "\n",
        "this_set.remove(\"banana\") #ข้อมูลมีอยู่ใน set เดิม\n",
        "print(this_set)\n"
      ],
      "metadata": {
        "id": "i_72Oa1tD9BF",
        "colab": {
          "base_uri": "https://localhost:8080/"
        },
        "outputId": "8b3ec8e8-dd80-4331-bb16-f3ba8713e9ab"
      },
      "execution_count": null,
      "outputs": [
        {
          "output_type": "stream",
          "name": "stdout",
          "text": [
            "{'banana', 'cherry', 'apple'}\n",
            "{'cherry', 'apple'}\n"
          ]
        }
      ]
    },
    {
      "cell_type": "code",
      "source": [
        "# การลบข้อมูลที่ไม่มีอยู่ใน set\n",
        "this_set = {\"apple\", \"banana\", \"cherry\"}\n",
        "\n",
        "this_set.remove(\"grape\")    # จะขึ้น Error KeyError: 'grape' หาไม่พบ\n",
        "print(this_set)"
      ],
      "metadata": {
        "colab": {
          "base_uri": "https://localhost:8080/",
          "height": 234
        },
        "id": "MJfsAvy4Y45X",
        "outputId": "c0d8fbcf-fef1-4a88-88d8-5fa16dbb2ba2"
      },
      "execution_count": null,
      "outputs": [
        {
          "output_type": "error",
          "ename": "KeyError",
          "evalue": "ignored",
          "traceback": [
            "\u001b[0;31m---------------------------------------------------------------------------\u001b[0m",
            "\u001b[0;31mKeyError\u001b[0m                                  Traceback (most recent call last)",
            "\u001b[0;32m<ipython-input-19-0403b5b8944b>\u001b[0m in \u001b[0;36m<cell line: 4>\u001b[0;34m()\u001b[0m\n\u001b[1;32m      2\u001b[0m \u001b[0mthis_set\u001b[0m \u001b[0;34m=\u001b[0m \u001b[0;34m{\u001b[0m\u001b[0;34m\"apple\"\u001b[0m\u001b[0;34m,\u001b[0m \u001b[0;34m\"banana\"\u001b[0m\u001b[0;34m,\u001b[0m \u001b[0;34m\"cherry\"\u001b[0m\u001b[0;34m}\u001b[0m\u001b[0;34m\u001b[0m\u001b[0;34m\u001b[0m\u001b[0m\n\u001b[1;32m      3\u001b[0m \u001b[0;34m\u001b[0m\u001b[0m\n\u001b[0;32m----> 4\u001b[0;31m \u001b[0mthis_set\u001b[0m\u001b[0;34m.\u001b[0m\u001b[0mremove\u001b[0m\u001b[0;34m(\u001b[0m\u001b[0;34m\"grape\"\u001b[0m\u001b[0;34m)\u001b[0m    \u001b[0;31m# จะขึ้น Error KeyError: 'grape' หาไม่พบ\u001b[0m\u001b[0;34m\u001b[0m\u001b[0;34m\u001b[0m\u001b[0m\n\u001b[0m\u001b[1;32m      5\u001b[0m \u001b[0mprint\u001b[0m\u001b[0;34m(\u001b[0m\u001b[0mthis_set\u001b[0m\u001b[0;34m)\u001b[0m\u001b[0;34m\u001b[0m\u001b[0;34m\u001b[0m\u001b[0m\n",
            "\u001b[0;31mKeyError\u001b[0m: 'grape'"
          ]
        }
      ]
    },
    {
      "cell_type": "code",
      "source": [
        "# Remove \"banana\" by using the discard() method:\n",
        "# การลบข้อมูลด้วยคำสั่ง discard()\n",
        "\n",
        "thisset = {\"apple\", \"banana\", \"cherry\"}\n",
        "thisset.discard(\"banana\")\n",
        "print(thisset)\n",
        "\n",
        "thisset.discard(\"grapes\")   # ไม่มีข้อมูลตัวนี้ จะไม่พบ และไม่แสดง Error\n",
        "print(thisset)"
      ],
      "metadata": {
        "id": "7HyB0_EBBKH5",
        "colab": {
          "base_uri": "https://localhost:8080/"
        },
        "outputId": "23773a64-6109-4dff-8618-a1821aacbb0a"
      },
      "execution_count": null,
      "outputs": [
        {
          "output_type": "stream",
          "name": "stdout",
          "text": [
            "{'cherry', 'apple'}\n",
            "{'cherry', 'apple'}\n"
          ]
        }
      ]
    },
    {
      "cell_type": "code",
      "source": [
        "#The clear() method empties the set\n",
        "#ลบข้อมูล ทำให้เป็นเซตว่าง\n",
        "\n",
        "this_set = {\"apple\", \"banana\", \"cherry\"}\n",
        "this_set.clear() # กลายเป็นเซตว่าง\n",
        "print(this_set)\n",
        "\n",
        "#นับจำนวนข้อมูล\n",
        "print(len(this_set))"
      ],
      "metadata": {
        "id": "FSP0Dc3QBKFd",
        "colab": {
          "base_uri": "https://localhost:8080/"
        },
        "outputId": "09f4b344-96f2-4aeb-b19b-13c86429e983"
      },
      "execution_count": null,
      "outputs": [
        {
          "output_type": "stream",
          "name": "stdout",
          "text": [
            "set()\n",
            "0\n"
          ]
        }
      ]
    },
    {
      "cell_type": "code",
      "source": [
        "# Join two set\n",
        "# The union() method returns a new set with all items from both sets:\n",
        "# สร้าง  set ใหม่ คือ set_3\n",
        "\n",
        "set_1 = {\"a\", \"b\", \"c\"}\n",
        "set_2 = {1, 2, 3}\n",
        "\n",
        "set_3 = set_1.union(set_2)\n",
        "print(set_3)"
      ],
      "metadata": {
        "id": "BZdPZsonBKCw",
        "colab": {
          "base_uri": "https://localhost:8080/"
        },
        "outputId": "c1dc27ad-35c1-4f46-8da9-0009407d058b"
      },
      "execution_count": null,
      "outputs": [
        {
          "output_type": "stream",
          "name": "stdout",
          "text": [
            "{1, 2, 3, 'a', 'c', 'b'}\n"
          ]
        }
      ]
    },
    {
      "cell_type": "code",
      "source": [
        "# The update() method inserts the items in set2 into set1:\n",
        "# ใช้วิธีการ update เข้าไปใน set เดิมที่มีอยู่\n",
        "\n",
        "set_1 = {\"a\", \"b\" , \"c\", \"d\"}\n",
        "set_2 = {1, 2, 3, 4, 5, 6, 7, 8, 9}\n",
        "\n",
        "set_1.update(set_2)\n",
        "print(set_1)\n"
      ],
      "metadata": {
        "id": "E2nzO_K9PH2D"
      },
      "execution_count": null,
      "outputs": []
    },
    {
      "cell_type": "code",
      "source": [
        "# Dictionary เป็นข้อมูลประเภทคอลเลคชั่นนแบบเรียงลำดับ\n",
        "# สามารถเปลี่ยนแปลงได้ และมีตัวชี้ลำดับ\n",
        "# การเขียนจะอยู่ภายใต้เครื่องหมาย { } และจะเขียนเป็นคู่ ประกอบด้วย Key : และ Value"
      ],
      "metadata": {
        "id": "y3LbSRsVZOAS"
      },
      "execution_count": null,
      "outputs": []
    },
    {
      "cell_type": "code",
      "source": [
        "# Dictionary\n",
        "\n",
        "# Create and print a dictionary:\n",
        "# Key คือตัวหน้า Data คือตัวหลัง\n",
        "\n",
        "this_dict = {\n",
        "  \"brand\": \"BMW\",\n",
        "  \"model\": \"X5\",\n",
        "  \"year\": 2023,\n",
        "}\n",
        "print(this_dict)   # ดึงค่าข้อมูลทั้งหมด"
      ],
      "metadata": {
        "colab": {
          "base_uri": "https://localhost:8080/"
        },
        "id": "iD9LKgdeZN9M",
        "outputId": "231ec561-39b8-40b8-8b13-eadc83f43c50"
      },
      "execution_count": null,
      "outputs": [
        {
          "output_type": "stream",
          "name": "stdout",
          "text": [
            "{'brand': 'BMW', 'model': 'X5', 'year': 2023}\n"
          ]
        }
      ]
    },
    {
      "cell_type": "code",
      "source": [
        "# Print all values in the dictionary, one by one:\n",
        "for x in this_dict:\n",
        "  print(x)  #key"
      ],
      "metadata": {
        "colab": {
          "base_uri": "https://localhost:8080/"
        },
        "id": "XFY6kNpmbZxq",
        "outputId": "f1dd8033-f9d4-459a-dc8e-b6cecfcea686"
      },
      "execution_count": null,
      "outputs": [
        {
          "output_type": "stream",
          "name": "stdout",
          "text": [
            "brand\n",
            "model\n",
            "year\n"
          ]
        }
      ]
    },
    {
      "cell_type": "code",
      "source": [
        "#Print all values in the dictionary, one by one:\n",
        "for x in this_dict:\n",
        "  print(this_dict[x])  #data"
      ],
      "metadata": {
        "colab": {
          "base_uri": "https://localhost:8080/"
        },
        "id": "9oF9u_n1bdc5",
        "outputId": "cea85148-7bdf-4b5e-b944-d91c4297895f"
      },
      "execution_count": null,
      "outputs": [
        {
          "output_type": "stream",
          "name": "stdout",
          "text": [
            "BMW\n",
            "X5\n",
            "2023\n"
          ]
        }
      ]
    },
    {
      "cell_type": "code",
      "source": [
        "#Print all values in the dictionary, one by one:\n",
        "for x in this_dict:\n",
        "  print(x, this_dict[x])\n"
      ],
      "metadata": {
        "colab": {
          "base_uri": "https://localhost:8080/"
        },
        "id": "An3XNbpObYbb",
        "outputId": "9ddd0d78-d8cf-4cef-98ee-2f4e41495ce7"
      },
      "execution_count": null,
      "outputs": [
        {
          "output_type": "stream",
          "name": "stdout",
          "text": [
            "brand BMW\n",
            "model X5\n",
            "year 2023\n"
          ]
        }
      ]
    },
    {
      "cell_type": "code",
      "source": [
        "# Loop through both keys and values, by using the items() function:\n",
        "print(\"print using x, y items : \")\n",
        "\n",
        "for x1, y1 in this_dict.items():\n",
        "  print(x1, y1)"
      ],
      "metadata": {
        "colab": {
          "base_uri": "https://localhost:8080/"
        },
        "id": "msWkxN_UbvWb",
        "outputId": "eb39bdac-3f08-44e5-d667-b79a2270f1bb"
      },
      "execution_count": null,
      "outputs": [
        {
          "output_type": "stream",
          "name": "stdout",
          "text": [
            "print using x, y items : \n",
            "brand BMW\n",
            "model X5\n",
            "year 2023\n"
          ]
        }
      ]
    },
    {
      "cell_type": "markdown",
      "source": [
        "![image.png](data:image/png;base64,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)"
      ],
      "metadata": {
        "id": "ySvt9eQLcD8N"
      }
    },
    {
      "cell_type": "code",
      "source": [
        "# tel_no['Amy'] = '091-011-1929'\n",
        "\n",
        "tel_no = {\n",
        "    'name': 'Amy',\n",
        "    'number': '091-011-1929'\n",
        "}\n",
        "\n",
        "print(tel_no)\n"
      ],
      "metadata": {
        "colab": {
          "base_uri": "https://localhost:8080/"
        },
        "id": "kY9k96Uvb51q",
        "outputId": "e74ec1d7-d13a-4719-c8d3-a8170867156d"
      },
      "execution_count": null,
      "outputs": [
        {
          "output_type": "stream",
          "name": "stdout",
          "text": [
            "{'name': 'Amy', 'number': '091-011-1929'}\n"
          ]
        }
      ]
    },
    {
      "cell_type": "code",
      "source": [
        "# Tuple\n",
        "\n",
        "# Different types of tuples\n",
        "\n",
        "# Empty tuple\n",
        "my_tuple = ()\n",
        "print(my_tuple)\n",
        "\n",
        "# Tuple having integers\n",
        "my_tuple = (1, 2, 3)\n",
        "print(my_tuple)\n",
        "\n",
        "# tuple with mixed datatypes\n",
        "my_tuple = (1, \"Hello\", 3.4)\n",
        "print(my_tuple)\n",
        "\n",
        "# nested tuple\n",
        "my_tuple = (\"mouse\", [8, 4, 6], (1, 2, 3))\n",
        "print(my_tuple)"
      ],
      "metadata": {
        "colab": {
          "base_uri": "https://localhost:8080/"
        },
        "id": "zPo3SbZMZN6t",
        "outputId": "f9ed1cf4-64df-4c9b-cad8-d18f0aada84d"
      },
      "execution_count": null,
      "outputs": [
        {
          "output_type": "stream",
          "name": "stdout",
          "text": [
            "()\n",
            "(1, 2, 3)\n",
            "(1, 'Hello', 3.4)\n",
            "('mouse', [8, 4, 6], (1, 2, 3))\n"
          ]
        }
      ]
    },
    {
      "cell_type": "code",
      "source": [
        "# Common Mistake -- Be careful\n",
        "\n",
        "var1 = (\"hello\")\n",
        "print(type(var1))  # <class 'str'>\n",
        "\n",
        "# Creating a tuple having one element\n",
        "var2 = (\"hello\",)\n",
        "print(type(var2))  # <class 'tuple'>\n",
        "\n",
        "# Parentheses is optional\n",
        "var3 = \"hello\",\n",
        "print(type(var3))  # <class 'tuple'>"
      ],
      "metadata": {
        "colab": {
          "base_uri": "https://localhost:8080/"
        },
        "id": "mxeduK6RZN4g",
        "outputId": "96a0a880-f176-429c-890c-5365ac59619b"
      },
      "execution_count": null,
      "outputs": [
        {
          "output_type": "stream",
          "name": "stdout",
          "text": [
            "<class 'str'>\n",
            "<class 'tuple'>\n",
            "<class 'tuple'>\n"
          ]
        }
      ]
    },
    {
      "cell_type": "code",
      "source": [
        "# forward accessing tuple elements using indexing\n",
        "letters = (\"p\", \"r\", \"o\", \"g\", \"r\", \"a\", \"m\", \"m\", \"i\", \"n\", \"g\")\n",
        "#           0    1    2    3    4    5    6    7    8    9    10\n",
        "\n",
        "print(letters[0])   # prints \"p\"\n",
        "print(letters[5])   # prints \"a\""
      ],
      "metadata": {
        "colab": {
          "base_uri": "https://localhost:8080/"
        },
        "id": "CIsAqn3WZN2A",
        "outputId": "6678aef7-aa8b-442b-a9bd-91fd11988f11"
      },
      "execution_count": null,
      "outputs": [
        {
          "output_type": "stream",
          "name": "stdout",
          "text": [
            "p\n",
            "a\n"
          ]
        }
      ]
    },
    {
      "cell_type": "code",
      "source": [
        "# backward accessing tuple elements using negative indexing\n",
        "letters = (\"p\", \"r\", \"o\", \"g\", \"r\", \"a\", \"m\", \"m\", \"i\", \"n\", \"g\")\n",
        "#         -11   -10  -9    -8  -7   -6   -5    -4  -3   -2    -1\n",
        "\n",
        "print(letters[-1])   # prints 'g'\n",
        "print(letters[-3])   # prints 'i'"
      ],
      "metadata": {
        "colab": {
          "base_uri": "https://localhost:8080/"
        },
        "id": "BHS6ajVwZNzk",
        "outputId": "4528c7aa-8189-4b46-cbf9-d196f1dd1cf3"
      },
      "execution_count": null,
      "outputs": [
        {
          "output_type": "stream",
          "name": "stdout",
          "text": [
            "g\n",
            "i\n"
          ]
        }
      ]
    },
    {
      "cell_type": "code",
      "source": [
        "letters = (\"p\", \"r\", \"o\", \"g\", \"r\", \"a\", \"m\", \"m\", \"i\", \"n\", \"g\")\n",
        "#           0    1    2    3    4    5    6    7    8    9    10"
      ],
      "metadata": {
        "id": "DU4iralgeloh"
      },
      "execution_count": null,
      "outputs": []
    },
    {
      "cell_type": "code",
      "source": [
        "# Forward Slicing\n",
        "\n",
        "letters = (\"p\", \"r\", \"o\", \"g\", \"r\", \"a\", \"m\", \"m\", \"i\", \"n\", \"g\")\n",
        "#           0    1    2    3    4    5    6    7    8    9    10\n",
        "\n",
        "# elements 2nd to 4th index\n",
        "print(letters[1:4])\n",
        "\n",
        "# m i n g\n",
        "print(letters[7: ])\n",
        "\n",
        "# p r o g r a m\n",
        "print(letters[0: 7])\n",
        "\n",
        "\n",
        "# p r o g r a m\n",
        "print(letters[ : 7])\n"
      ],
      "metadata": {
        "colab": {
          "base_uri": "https://localhost:8080/"
        },
        "id": "oKJwMWq9e8Ra",
        "outputId": "cc15863d-eb39-4225-b362-4e0455912867"
      },
      "execution_count": null,
      "outputs": [
        {
          "output_type": "stream",
          "name": "stdout",
          "text": [
            "('r', 'o', 'g')\n",
            "('m', 'i', 'n', 'g')\n",
            "('p', 'r', 'o', 'g', 'r', 'a', 'm')\n",
            "('p', 'r', 'o', 'g', 'r', 'a', 'm')\n"
          ]
        }
      ]
    },
    {
      "cell_type": "code",
      "source": [
        "# Backward Slicing\n",
        "letters = (\"p\", \"r\", \"o\", \"g\", \"r\", \"a\", \"m\", \"m\", \"i\", \"n\", \"g\")\n",
        "#         -11   -10  -9    -8  -7   -6   -5    -4  -3   -2    -1\n",
        "\n",
        "# m i n g\n",
        "print(letters[-4: ])\n",
        "\n",
        "# p r o g r a m\n",
        "print(letters[-11: -4])\n",
        "\n",
        "\n",
        "# p r o g r a m\n",
        "print(letters[ : -4])\n"
      ],
      "metadata": {
        "colab": {
          "base_uri": "https://localhost:8080/"
        },
        "id": "mWa8vtiLf7Bu",
        "outputId": "1aeea8ad-10c8-4dca-aa43-dcb0be178693"
      },
      "execution_count": null,
      "outputs": [
        {
          "output_type": "stream",
          "name": "stdout",
          "text": [
            "('m', 'i', 'n', 'g')\n",
            "('p', 'r', 'o', 'g', 'r', 'a', 'm')\n",
            "('p', 'r', 'o', 'g', 'r', 'a', 'm')\n"
          ]
        }
      ]
    },
    {
      "cell_type": "code",
      "source": [
        "my_tuple = ('a', 'p', 'p', 'l', 'e',)\n",
        "\n",
        "print(my_tuple.count('p'))  # prints 2\n",
        "print(my_tuple.index('l'))  # prints 3 -> Find index position"
      ],
      "metadata": {
        "colab": {
          "base_uri": "https://localhost:8080/"
        },
        "id": "XPuiI3IvgXSm",
        "outputId": "556cc39c-c837-483a-8559-0651dd3d226b"
      },
      "execution_count": null,
      "outputs": [
        {
          "output_type": "stream",
          "name": "stdout",
          "text": [
            "2\n",
            "3\n"
          ]
        }
      ]
    },
    {
      "cell_type": "code",
      "source": [
        "languages = ('Python', 'Swift', 'C++')\n",
        "\n",
        "# iterating through the tuple\n",
        "for i in languages:\n",
        "    print(i)"
      ],
      "metadata": {
        "colab": {
          "base_uri": "https://localhost:8080/"
        },
        "id": "EKKR-Y71gPM7",
        "outputId": "f27a2f45-6c83-42db-cfcc-4bc429c3aa59"
      },
      "execution_count": null,
      "outputs": [
        {
          "output_type": "stream",
          "name": "stdout",
          "text": [
            "Python\n",
            "Swift\n",
            "C++\n"
          ]
        }
      ]
    },
    {
      "cell_type": "code",
      "source": [
        "languages = ('Python', 'Swift', 'C++')\n",
        "\n",
        "print('C' in languages)    # False\n",
        "print('Python' in languages)    # True"
      ],
      "metadata": {
        "colab": {
          "base_uri": "https://localhost:8080/"
        },
        "id": "xgK8ZUKegLTd",
        "outputId": "197e004f-bfba-4c07-a698-52cd4cca6245"
      },
      "execution_count": null,
      "outputs": [
        {
          "output_type": "stream",
          "name": "stdout",
          "text": [
            "False\n",
            "True\n"
          ]
        }
      ]
    },
    {
      "cell_type": "code",
      "source": [
        "languages = ('Python', 'Swift', 'C++')\n",
        "\n",
        "if 'C' in languages:\n",
        "    print(True)\n",
        "else:\n",
        "    print(False)"
      ],
      "metadata": {
        "colab": {
          "base_uri": "https://localhost:8080/"
        },
        "id": "YhsBQvhXf2WZ",
        "outputId": "31ce784a-300d-444f-de69-8e5f5fbf5c0a"
      },
      "execution_count": null,
      "outputs": [
        {
          "output_type": "stream",
          "name": "stdout",
          "text": [
            "False\n"
          ]
        }
      ]
    },
    {
      "cell_type": "markdown",
      "source": [
        "# **User Defined Function (UDF)**"
      ],
      "metadata": {
        "id": "npU5RPNThqiZ"
      }
    },
    {
      "cell_type": "code",
      "source": [
        "# Built-in function\n",
        "# len()\n",
        "# print()\n",
        "\n",
        "# User Defined Function (UDF) -> Write for specific purpose"
      ],
      "metadata": {
        "id": "AZPPgcvZhfB1"
      },
      "execution_count": null,
      "outputs": []
    },
    {
      "cell_type": "code",
      "source": [
        "# UDF\n",
        "# 1. Function with parameters and return value\n",
        "# 2. Function with parameters and no return value\n",
        "# 3. Function without parameters and return value\n",
        "# 4. Function without parameters and no return value\n"
      ],
      "metadata": {
        "id": "UB_c6WTdhc6K"
      },
      "execution_count": null,
      "outputs": []
    },
    {
      "cell_type": "code",
      "source": [
        "# 4. Function without parameters and no return value\n",
        "    #  without parameters -> nothing in parenthesis\n",
        "    #  no return value -> do something and done, nothing return back to caller\n",
        "\n",
        "def hi():\n",
        "    print(\"Hello, how are you today?\")\n",
        "\n",
        "hi()"
      ],
      "metadata": {
        "colab": {
          "base_uri": "https://localhost:8080/"
        },
        "id": "VFEl3eYJfsl6",
        "outputId": "01b831f7-15e6-49b6-a778-fe50783ef93c"
      },
      "execution_count": null,
      "outputs": [
        {
          "output_type": "stream",
          "name": "stdout",
          "text": [
            "Hello, how are you today?\n"
          ]
        }
      ]
    },
    {
      "cell_type": "code",
      "source": [
        "hi()"
      ],
      "metadata": {
        "colab": {
          "base_uri": "https://localhost:8080/"
        },
        "id": "29qoXGo3e8OX",
        "outputId": "2055f775-dc03-43b3-a601-5a52db9edd46"
      },
      "execution_count": null,
      "outputs": [
        {
          "output_type": "stream",
          "name": "stdout",
          "text": [
            "Hello, how are you today?\n"
          ]
        }
      ]
    },
    {
      "cell_type": "code",
      "source": [
        "# 3. Function without parameters and return value\n",
        "    # without parameters -> nothing in parenthesis\n",
        "    # return value -> do something and done, must return value back to caller\n",
        "    # must have keyword 'return'\n",
        "\n",
        "def hi():\n",
        "    return \"Hello, how are you today?\"\n",
        "\n",
        "# return into a virable for later use\n",
        "result = hi()\n",
        "print(result)\n",
        "\n",
        "# return to function print()\n",
        "print(hi())"
      ],
      "metadata": {
        "colab": {
          "base_uri": "https://localhost:8080/"
        },
        "id": "oL_sO7AtiyYp",
        "outputId": "1eb2e8bf-90bd-4774-c97a-1f477b7e7060"
      },
      "execution_count": null,
      "outputs": [
        {
          "output_type": "stream",
          "name": "stdout",
          "text": [
            "Hello, how are you today?\n",
            "Hello, how are you today?\n"
          ]
        }
      ]
    },
    {
      "cell_type": "code",
      "source": [
        "# 2. Function with parameters and no return value\n",
        "    # with parameters -> must provide variable or value in parenthesis\n",
        "    # no return value -> do something and done, no return value back to caller\n",
        "    # must have keyword 'return'\n",
        "\n",
        "def hi(name):\n",
        "    print(f'Hello, how are you {name}?')\n",
        "\n",
        "\n",
        "hi(\"Rogers\") # String Value as a parameter\n",
        "\n",
        "guest = 'Tony Rogers'\n",
        "hi(guest)  # Variable as a parameter"
      ],
      "metadata": {
        "colab": {
          "base_uri": "https://localhost:8080/"
        },
        "id": "7b919gTBe8Jx",
        "outputId": "427d229f-fc58-4afd-a851-5cd379a647f9"
      },
      "execution_count": null,
      "outputs": [
        {
          "output_type": "stream",
          "name": "stdout",
          "text": [
            "Hello, how are you Rogers?\n",
            "Hello, how are you Tony Rogers?\n"
          ]
        }
      ]
    },
    {
      "cell_type": "code",
      "source": [
        "# 1. Function with parameters and return value\n",
        "\n",
        "    # with parameters -> must provide variable or value in parenthesis\n",
        "    # return value -> do something and done, must return value back to caller\n",
        "    # must have keyword 'return'\n",
        "\n",
        "def hi(name):\n",
        "    return f'Hello, how are you {name}?'\n",
        "\n",
        "\n",
        "hi(\"Rogers\") # String Value as a parameter\n",
        "\n",
        "guest = 'Tony Rogers'\n",
        "hi(guest)  # Variable as a parameter"
      ],
      "metadata": {
        "colab": {
          "base_uri": "https://localhost:8080/",
          "height": 36
        },
        "id": "lPORoBQGe8G9",
        "outputId": "c1949752-ff1b-44fd-86df-8d13cca85f32"
      },
      "execution_count": null,
      "outputs": [
        {
          "output_type": "execute_result",
          "data": {
            "text/plain": [
              "'Hello, how are you Tony Rogers?'"
            ],
            "application/vnd.google.colaboratory.intrinsic+json": {
              "type": "string"
            }
          },
          "metadata": {},
          "execution_count": 55
        }
      ]
    },
    {
      "cell_type": "code",
      "source": [
        "# Calculate Rectangle Area\n",
        "# 4. Function without parameters and no return value\n",
        "\n",
        "def area():\n",
        "     length = 10\n",
        "     width = 20\n",
        "     print('Area is', length * width)\n",
        "\n",
        "area()"
      ],
      "metadata": {
        "colab": {
          "base_uri": "https://localhost:8080/"
        },
        "id": "zWKg7OQ9e7_G",
        "outputId": "abebaa4b-d706-4aa9-aee2-2460f4a31758"
      },
      "execution_count": null,
      "outputs": [
        {
          "output_type": "stream",
          "name": "stdout",
          "text": [
            "Area is 200\n"
          ]
        }
      ]
    },
    {
      "cell_type": "code",
      "source": [
        "# Calculate Rectangle Area\n",
        "# 4. Function without parameters and no return value\n",
        "\n",
        "def area():\n",
        "     length = float(input(\"Enter Length : \"))\n",
        "     width = float(input(\"Enter Width : \"))\n",
        "\n",
        "     print('Area is', length * width)\n",
        "     print(f'Area is {length * width:.2f}')\n",
        "\n",
        "area()\n"
      ],
      "metadata": {
        "colab": {
          "base_uri": "https://localhost:8080/"
        },
        "id": "LYRweLUPe7in",
        "outputId": "57d3dfab-42b6-437c-d70b-cfcead9a1956"
      },
      "execution_count": null,
      "outputs": [
        {
          "output_type": "stream",
          "name": "stdout",
          "text": [
            "Enter Length : 45.5\n",
            "Enter Width : 65.0\n",
            "Area is 2957.5\n",
            "Area is 2957.50\n"
          ]
        }
      ]
    },
    {
      "cell_type": "code",
      "source": [
        "# 3. Function without parameters and return value\n",
        "\n",
        "def area():\n",
        "     length = float(input(\"Enter Length : \"))\n",
        "     width = float(input(\"Enter Width : \"))\n",
        "     return length * width # Return as integer\n",
        "     # return f'Area is {length * width:.2f}'\n",
        "\n",
        "result = area()\n",
        "print(f'Area is {result:.2f}')\n",
        "\n"
      ],
      "metadata": {
        "colab": {
          "base_uri": "https://localhost:8080/"
        },
        "id": "cr5ObAnRkFVO",
        "outputId": "c7989078-72bb-4a2c-d5c3-20447dc5cb26"
      },
      "execution_count": null,
      "outputs": [
        {
          "output_type": "stream",
          "name": "stdout",
          "text": [
            "Enter Length : 89\n",
            "Enter Width : 99.99\n",
            "Area is 8899.11\n"
          ]
        }
      ]
    },
    {
      "cell_type": "code",
      "source": [
        "# 2. Function with parameters and no return value\n",
        "\n",
        "def area(w, l):\n",
        "     print('Area is', l * w)\n",
        "     print(f'Area is {l * w:.2f}')\n",
        "\n",
        "length = int(input(\"Enter Length : \"))\n",
        "width = int(input(\"Enter Width : \"))\n",
        "area(length, width) # call function with two parameters\n"
      ],
      "metadata": {
        "colab": {
          "base_uri": "https://localhost:8080/"
        },
        "id": "Hbaojgk-kFS8",
        "outputId": "9f19bc0c-9175-4997-e818-1b145d3f7e5f"
      },
      "execution_count": null,
      "outputs": [
        {
          "output_type": "stream",
          "name": "stdout",
          "text": [
            "Enter Length : 332\n",
            "Enter Width : 123\n",
            "Area is 40836\n",
            "Area is 40836.00\n"
          ]
        }
      ]
    },
    {
      "cell_type": "code",
      "source": [
        "# 1. Function with parameters and return value\n",
        "\n",
        "def area(w, l):\n",
        "    area = w * l\n",
        "    return f'Area is {area:.2f}'\n",
        "\n",
        "length = int(input(\"Enter Length : \"))\n",
        "width = int(input(\"Enter Width : \"))\n",
        "area(length, width)"
      ],
      "metadata": {
        "colab": {
          "base_uri": "https://localhost:8080/",
          "height": 72
        },
        "id": "O6i_G-3jkFQe",
        "outputId": "01ec07b3-dd53-4922-8446-4f39a50c284d"
      },
      "execution_count": null,
      "outputs": [
        {
          "name": "stdout",
          "output_type": "stream",
          "text": [
            "Enter Length : 234\n",
            "Enter Width : 345\n"
          ]
        },
        {
          "output_type": "execute_result",
          "data": {
            "text/plain": [
              "'Area is 80730.00'"
            ],
            "application/vnd.google.colaboratory.intrinsic+json": {
              "type": "string"
            }
          },
          "metadata": {},
          "execution_count": 60
        }
      ]
    },
    {
      "cell_type": "code",
      "source": [],
      "metadata": {
        "id": "V0W6mNb0kFOE"
      },
      "execution_count": null,
      "outputs": []
    },
    {
      "cell_type": "code",
      "source": [],
      "metadata": {
        "id": "yYC2mlvLkFLy"
      },
      "execution_count": null,
      "outputs": []
    },
    {
      "cell_type": "code",
      "source": [],
      "metadata": {
        "id": "f-2ZyzM8kFJt"
      },
      "execution_count": null,
      "outputs": []
    },
    {
      "cell_type": "code",
      "source": [],
      "metadata": {
        "id": "5pRczsljkFHW"
      },
      "execution_count": null,
      "outputs": []
    }
  ]
}